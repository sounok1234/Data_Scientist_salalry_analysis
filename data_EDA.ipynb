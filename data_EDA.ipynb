{
 "cells": [
  {
   "cell_type": "code",
   "execution_count": 190,
   "metadata": {},
   "outputs": [
    {
     "data": {
      "text/plain": [
       "20"
      ]
     },
     "execution_count": 190,
     "metadata": {},
     "output_type": "execute_result"
    }
   ],
   "source": [
    "import pandas as pd \n",
    "import matplotlib.pyplot as plt \n",
    "import seaborn as sbs\n",
    "import numpy as np\n",
    "\n",
    "pd.options.display.max_rows\n",
    "pd.options.display.max_columns"
   ]
  },
  {
   "cell_type": "code",
   "execution_count": 191,
   "metadata": {},
   "outputs": [
    {
     "data": {
      "text/html": [
       "<div>\n",
       "<style scoped>\n",
       "    .dataframe tbody tr th:only-of-type {\n",
       "        vertical-align: middle;\n",
       "    }\n",
       "\n",
       "    .dataframe tbody tr th {\n",
       "        vertical-align: top;\n",
       "    }\n",
       "\n",
       "    .dataframe thead th {\n",
       "        text-align: right;\n",
       "    }\n",
       "</style>\n",
       "<table border=\"1\" class=\"dataframe\">\n",
       "  <thead>\n",
       "    <tr style=\"text-align: right;\">\n",
       "      <th></th>\n",
       "      <th>Job Title</th>\n",
       "      <th>Salary Estimate</th>\n",
       "      <th>Job Description</th>\n",
       "      <th>Company Name</th>\n",
       "      <th>Location</th>\n",
       "      <th>Headquarters</th>\n",
       "      <th>Size</th>\n",
       "      <th>Founded</th>\n",
       "      <th>Type of ownership</th>\n",
       "      <th>Industry</th>\n",
       "      <th>...</th>\n",
       "      <th>python_</th>\n",
       "      <th>R_</th>\n",
       "      <th>spark_</th>\n",
       "      <th>aws_</th>\n",
       "      <th>excel_</th>\n",
       "      <th>private</th>\n",
       "      <th>avg_revenue</th>\n",
       "      <th>avg_size</th>\n",
       "      <th>age</th>\n",
       "      <th>Rating</th>\n",
       "    </tr>\n",
       "  </thead>\n",
       "  <tbody>\n",
       "    <tr>\n",
       "      <th>0</th>\n",
       "      <td>DATA SCIENTIST</td>\n",
       "      <td>$54K-$92K\\n(Glassdoor est.)</td>\n",
       "      <td>JOB SUMMARY\\n\\nThe position will focus on buil...</td>\n",
       "      <td>Blessing Hospital\\n3.8</td>\n",
       "      <td>Quincy, IL</td>\n",
       "      <td>-1</td>\n",
       "      <td>1001 to 5000 Employees</td>\n",
       "      <td>1875</td>\n",
       "      <td>Nonprofit Organization</td>\n",
       "      <td>Health Care Services &amp; Hospitals</td>\n",
       "      <td>...</td>\n",
       "      <td>1</td>\n",
       "      <td>0</td>\n",
       "      <td>0</td>\n",
       "      <td>1</td>\n",
       "      <td>1</td>\n",
       "      <td>0</td>\n",
       "      <td>3.000000e+08</td>\n",
       "      <td>3000.5</td>\n",
       "      <td>145.0</td>\n",
       "      <td>3.8</td>\n",
       "    </tr>\n",
       "    <tr>\n",
       "      <th>1</th>\n",
       "      <td>Sr. Data Scientist - Model Governance</td>\n",
       "      <td>$101K-$163K\\n(Glassdoor est.)</td>\n",
       "      <td>General Summary:\\n\\nThe position plays a criti...</td>\n",
       "      <td>Elevate Credit\\n3.6</td>\n",
       "      <td>Addison, TX</td>\n",
       "      <td>-1</td>\n",
       "      <td>501 to 1000 Employees</td>\n",
       "      <td>2014</td>\n",
       "      <td>Company - Public</td>\n",
       "      <td>Lending</td>\n",
       "      <td>...</td>\n",
       "      <td>1</td>\n",
       "      <td>0</td>\n",
       "      <td>0</td>\n",
       "      <td>0</td>\n",
       "      <td>0</td>\n",
       "      <td>0</td>\n",
       "      <td>3.000000e+08</td>\n",
       "      <td>750.5</td>\n",
       "      <td>6.0</td>\n",
       "      <td>3.6</td>\n",
       "    </tr>\n",
       "    <tr>\n",
       "      <th>2</th>\n",
       "      <td>R&amp;D Scientist</td>\n",
       "      <td>$31K-$72K\\n(Glassdoor est.)</td>\n",
       "      <td>Our Research and Development department is on ...</td>\n",
       "      <td>Chobani\\n4.3</td>\n",
       "      <td>Twin Falls, ID</td>\n",
       "      <td>-1</td>\n",
       "      <td>1001 to 5000 Employees</td>\n",
       "      <td>2005</td>\n",
       "      <td>Company - Private</td>\n",
       "      <td>Food &amp; Beverage Manufacturing</td>\n",
       "      <td>...</td>\n",
       "      <td>0</td>\n",
       "      <td>0</td>\n",
       "      <td>0</td>\n",
       "      <td>1</td>\n",
       "      <td>1</td>\n",
       "      <td>1</td>\n",
       "      <td>1.500000e+09</td>\n",
       "      <td>3000.5</td>\n",
       "      <td>15.0</td>\n",
       "      <td>4.3</td>\n",
       "    </tr>\n",
       "    <tr>\n",
       "      <th>3</th>\n",
       "      <td>Manufacturing Scientist</td>\n",
       "      <td>$41K-$91K\\n(Glassdoor est.)</td>\n",
       "      <td>Biomerica Corporation focusing on the research...</td>\n",
       "      <td>Biomerica\\n2.5</td>\n",
       "      <td>Irvine, CA</td>\n",
       "      <td>-1</td>\n",
       "      <td>1 to 50 Employees</td>\n",
       "      <td>-1</td>\n",
       "      <td>Company - Public</td>\n",
       "      <td>Biotech &amp; Pharmaceuticals</td>\n",
       "      <td>...</td>\n",
       "      <td>0</td>\n",
       "      <td>0</td>\n",
       "      <td>0</td>\n",
       "      <td>0</td>\n",
       "      <td>1</td>\n",
       "      <td>0</td>\n",
       "      <td>7.500000e+06</td>\n",
       "      <td>25.5</td>\n",
       "      <td>12.5</td>\n",
       "      <td>2.5</td>\n",
       "    </tr>\n",
       "    <tr>\n",
       "      <th>4</th>\n",
       "      <td>HCM Data Analyst</td>\n",
       "      <td>$55K-$94K\\n(Glassdoor est.)</td>\n",
       "      <td>Any qualified individual with a disability who...</td>\n",
       "      <td>Austal USA\\n3.2</td>\n",
       "      <td>Mobile, AL</td>\n",
       "      <td>-1</td>\n",
       "      <td>1001 to 5000 Employees</td>\n",
       "      <td>1988</td>\n",
       "      <td>Company - Public</td>\n",
       "      <td>Industrial Manufacturing</td>\n",
       "      <td>...</td>\n",
       "      <td>0</td>\n",
       "      <td>0</td>\n",
       "      <td>0</td>\n",
       "      <td>0</td>\n",
       "      <td>1</td>\n",
       "      <td>0</td>\n",
       "      <td>1.500000e+09</td>\n",
       "      <td>3000.5</td>\n",
       "      <td>32.0</td>\n",
       "      <td>3.2</td>\n",
       "    </tr>\n",
       "  </tbody>\n",
       "</table>\n",
       "<p>5 rows × 30 columns</p>\n",
       "</div>"
      ],
      "text/plain": [
       "                               Job Title                Salary Estimate  \\\n",
       "0                         DATA SCIENTIST    $54K-$92K\\n(Glassdoor est.)   \n",
       "1  Sr. Data Scientist - Model Governance  $101K-$163K\\n(Glassdoor est.)   \n",
       "2                          R&D Scientist    $31K-$72K\\n(Glassdoor est.)   \n",
       "3                Manufacturing Scientist    $41K-$91K\\n(Glassdoor est.)   \n",
       "4                       HCM Data Analyst    $55K-$94K\\n(Glassdoor est.)   \n",
       "\n",
       "                                     Job Description            Company Name  \\\n",
       "0  JOB SUMMARY\\n\\nThe position will focus on buil...  Blessing Hospital\\n3.8   \n",
       "1  General Summary:\\n\\nThe position plays a criti...     Elevate Credit\\n3.6   \n",
       "2  Our Research and Development department is on ...            Chobani\\n4.3   \n",
       "3  Biomerica Corporation focusing on the research...          Biomerica\\n2.5   \n",
       "4  Any qualified individual with a disability who...         Austal USA\\n3.2   \n",
       "\n",
       "         Location  Headquarters                    Size  Founded  \\\n",
       "0      Quincy, IL            -1  1001 to 5000 Employees     1875   \n",
       "1     Addison, TX            -1   501 to 1000 Employees     2014   \n",
       "2  Twin Falls, ID            -1  1001 to 5000 Employees     2005   \n",
       "3      Irvine, CA            -1       1 to 50 Employees       -1   \n",
       "4      Mobile, AL            -1  1001 to 5000 Employees     1988   \n",
       "\n",
       "        Type of ownership                          Industry  ... python_ R_  \\\n",
       "0  Nonprofit Organization  Health Care Services & Hospitals  ...       1  0   \n",
       "1        Company - Public                           Lending  ...       1  0   \n",
       "2       Company - Private     Food & Beverage Manufacturing  ...       0  0   \n",
       "3        Company - Public         Biotech & Pharmaceuticals  ...       0  0   \n",
       "4        Company - Public          Industrial Manufacturing  ...       0  0   \n",
       "\n",
       "   spark_  aws_  excel_  private   avg_revenue  avg_size    age Rating  \n",
       "0       0     1       1        0  3.000000e+08    3000.5  145.0    3.8  \n",
       "1       0     0       0        0  3.000000e+08     750.5    6.0    3.6  \n",
       "2       0     1       1        1  1.500000e+09    3000.5   15.0    4.3  \n",
       "3       0     0       1        0  7.500000e+06      25.5   12.5    2.5  \n",
       "4       0     0       1        0  1.500000e+09    3000.5   32.0    3.2  \n",
       "\n",
       "[5 rows x 30 columns]"
      ]
     },
     "execution_count": 191,
     "metadata": {},
     "output_type": "execute_result"
    }
   ],
   "source": [
    "df = pd.read_csv('salary_data_cleaned.csv')\n",
    "df.head()"
   ]
  },
  {
   "cell_type": "code",
   "execution_count": 192,
   "metadata": {},
   "outputs": [
    {
     "data": {
      "text/plain": [
       "Index(['Job Title', 'Salary Estimate', 'Job Description', 'Company Name',\n",
       "       'Location', 'Headquarters', 'Size', 'Founded', 'Type of ownership',\n",
       "       'Industry', 'Sector', 'Revenue', 'Competitors', 'hourly',\n",
       "       'employer_provided', 'min_salary', 'max_salary', 'avg_salary',\n",
       "       'company_txt', 'job_state', 'python_', 'R_', 'spark_', 'aws_', 'excel_',\n",
       "       'private', 'avg_revenue', 'avg_size', 'age', 'Rating'],\n",
       "      dtype='object')"
      ]
     },
     "execution_count": 192,
     "metadata": {},
     "output_type": "execute_result"
    }
   ],
   "source": [
    "df.columns"
   ]
  },
  {
   "cell_type": "code",
   "execution_count": 193,
   "metadata": {},
   "outputs": [],
   "source": [
    "def title_extraction(title):\n",
    "    if 'data scientist' in title.lower():\n",
    "        return 'data scientist'\n",
    "    elif 'data engineer' in title.lower():\n",
    "        return 'data engineer'\n",
    "    elif 'analyst' in title.lower():\n",
    "        return 'analyst'\n",
    "    elif 'machine learning' in title.lower():\n",
    "        return 'mle'\n",
    "    elif 'manager' in title.lower():\n",
    "        return 'manager'\n",
    "    elif 'director' in title.lower():\n",
    "        return 'director'\n",
    "    else:\n",
    "        return 'data scientist'\n",
    "    \n",
    "def seniority(title):\n",
    "    if 'sr' in title.lower() or 'senior' in title.lower() or 'director' in title.lower() or 'lead' in title.lower() or 'principal' in title.lower():\n",
    "            return 1\n",
    "    elif 'jr' in title.lower() or 'jr.' in title.lower():\n",
    "        return 0\n",
    "    else:\n",
    "        return 0"
   ]
  },
  {
   "cell_type": "code",
   "execution_count": 194,
   "metadata": {
    "scrolled": true
   },
   "outputs": [
    {
     "data": {
      "text/plain": [
       "data scientist    450\n",
       "analyst           152\n",
       "mle                84\n",
       "data engineer      59\n",
       "manager            15\n",
       "director           10\n",
       "Name: job_simp, dtype: int64"
      ]
     },
     "execution_count": 194,
     "metadata": {},
     "output_type": "execute_result"
    }
   ],
   "source": [
    "df['job_simp'] = df['Job Title'].apply(title_extraction)\n",
    "df.job_simp.value_counts()"
   ]
  },
  {
   "cell_type": "code",
   "execution_count": 195,
   "metadata": {},
   "outputs": [],
   "source": [
    "dummy_df = pd.get_dummies(df.job_simp)"
   ]
  },
  {
   "cell_type": "code",
   "execution_count": 196,
   "metadata": {},
   "outputs": [
    {
     "data": {
      "text/html": [
       "<div>\n",
       "<style scoped>\n",
       "    .dataframe tbody tr th:only-of-type {\n",
       "        vertical-align: middle;\n",
       "    }\n",
       "\n",
       "    .dataframe tbody tr th {\n",
       "        vertical-align: top;\n",
       "    }\n",
       "\n",
       "    .dataframe thead th {\n",
       "        text-align: right;\n",
       "    }\n",
       "</style>\n",
       "<table border=\"1\" class=\"dataframe\">\n",
       "  <thead>\n",
       "    <tr style=\"text-align: right;\">\n",
       "      <th></th>\n",
       "      <th>analyst</th>\n",
       "      <th>data engineer</th>\n",
       "      <th>data scientist</th>\n",
       "      <th>director</th>\n",
       "      <th>manager</th>\n",
       "      <th>mle</th>\n",
       "    </tr>\n",
       "  </thead>\n",
       "  <tbody>\n",
       "    <tr>\n",
       "      <th>0</th>\n",
       "      <td>0</td>\n",
       "      <td>0</td>\n",
       "      <td>1</td>\n",
       "      <td>0</td>\n",
       "      <td>0</td>\n",
       "      <td>0</td>\n",
       "    </tr>\n",
       "    <tr>\n",
       "      <th>1</th>\n",
       "      <td>0</td>\n",
       "      <td>0</td>\n",
       "      <td>1</td>\n",
       "      <td>0</td>\n",
       "      <td>0</td>\n",
       "      <td>0</td>\n",
       "    </tr>\n",
       "    <tr>\n",
       "      <th>2</th>\n",
       "      <td>0</td>\n",
       "      <td>0</td>\n",
       "      <td>1</td>\n",
       "      <td>0</td>\n",
       "      <td>0</td>\n",
       "      <td>0</td>\n",
       "    </tr>\n",
       "    <tr>\n",
       "      <th>3</th>\n",
       "      <td>0</td>\n",
       "      <td>0</td>\n",
       "      <td>1</td>\n",
       "      <td>0</td>\n",
       "      <td>0</td>\n",
       "      <td>0</td>\n",
       "    </tr>\n",
       "    <tr>\n",
       "      <th>4</th>\n",
       "      <td>1</td>\n",
       "      <td>0</td>\n",
       "      <td>0</td>\n",
       "      <td>0</td>\n",
       "      <td>0</td>\n",
       "      <td>0</td>\n",
       "    </tr>\n",
       "  </tbody>\n",
       "</table>\n",
       "</div>"
      ],
      "text/plain": [
       "   analyst  data engineer  data scientist  director  manager  mle\n",
       "0        0              0               1         0        0    0\n",
       "1        0              0               1         0        0    0\n",
       "2        0              0               1         0        0    0\n",
       "3        0              0               1         0        0    0\n",
       "4        1              0               0         0        0    0"
      ]
     },
     "execution_count": 196,
     "metadata": {},
     "output_type": "execute_result"
    }
   ],
   "source": [
    "dummy_df.head()"
   ]
  },
  {
   "cell_type": "code",
   "execution_count": 197,
   "metadata": {},
   "outputs": [
    {
     "data": {
      "text/plain": [
       "(770, 6)"
      ]
     },
     "execution_count": 197,
     "metadata": {},
     "output_type": "execute_result"
    }
   ],
   "source": [
    "dummy_df.shape"
   ]
  },
  {
   "cell_type": "code",
   "execution_count": 198,
   "metadata": {},
   "outputs": [],
   "source": [
    "new_df = pd.concat([df, dummy_df], axis=1)"
   ]
  },
  {
   "cell_type": "code",
   "execution_count": 199,
   "metadata": {},
   "outputs": [
    {
     "data": {
      "text/plain": [
       "(770, 37)"
      ]
     },
     "execution_count": 199,
     "metadata": {},
     "output_type": "execute_result"
    }
   ],
   "source": [
    "new_df.shape"
   ]
  },
  {
   "cell_type": "code",
   "execution_count": 200,
   "metadata": {},
   "outputs": [
    {
     "data": {
      "text/html": [
       "<div>\n",
       "<style scoped>\n",
       "    .dataframe tbody tr th:only-of-type {\n",
       "        vertical-align: middle;\n",
       "    }\n",
       "\n",
       "    .dataframe tbody tr th {\n",
       "        vertical-align: top;\n",
       "    }\n",
       "\n",
       "    .dataframe thead th {\n",
       "        text-align: right;\n",
       "    }\n",
       "</style>\n",
       "<table border=\"1\" class=\"dataframe\">\n",
       "  <thead>\n",
       "    <tr style=\"text-align: right;\">\n",
       "      <th></th>\n",
       "      <th>Job Title</th>\n",
       "      <th>Salary Estimate</th>\n",
       "      <th>Job Description</th>\n",
       "      <th>Company Name</th>\n",
       "      <th>Location</th>\n",
       "      <th>Headquarters</th>\n",
       "      <th>Size</th>\n",
       "      <th>Founded</th>\n",
       "      <th>Type of ownership</th>\n",
       "      <th>Industry</th>\n",
       "      <th>...</th>\n",
       "      <th>avg_size</th>\n",
       "      <th>age</th>\n",
       "      <th>Rating</th>\n",
       "      <th>job_simp</th>\n",
       "      <th>analyst</th>\n",
       "      <th>data engineer</th>\n",
       "      <th>data scientist</th>\n",
       "      <th>director</th>\n",
       "      <th>manager</th>\n",
       "      <th>mle</th>\n",
       "    </tr>\n",
       "  </thead>\n",
       "  <tbody>\n",
       "    <tr>\n",
       "      <th>0</th>\n",
       "      <td>DATA SCIENTIST</td>\n",
       "      <td>$54K-$92K\\n(Glassdoor est.)</td>\n",
       "      <td>JOB SUMMARY\\n\\nThe position will focus on buil...</td>\n",
       "      <td>Blessing Hospital\\n3.8</td>\n",
       "      <td>Quincy, IL</td>\n",
       "      <td>-1</td>\n",
       "      <td>1001 to 5000 Employees</td>\n",
       "      <td>1875</td>\n",
       "      <td>Nonprofit Organization</td>\n",
       "      <td>Health Care Services &amp; Hospitals</td>\n",
       "      <td>...</td>\n",
       "      <td>3000.5</td>\n",
       "      <td>145.0</td>\n",
       "      <td>3.8</td>\n",
       "      <td>data scientist</td>\n",
       "      <td>0</td>\n",
       "      <td>0</td>\n",
       "      <td>1</td>\n",
       "      <td>0</td>\n",
       "      <td>0</td>\n",
       "      <td>0</td>\n",
       "    </tr>\n",
       "    <tr>\n",
       "      <th>1</th>\n",
       "      <td>Sr. Data Scientist - Model Governance</td>\n",
       "      <td>$101K-$163K\\n(Glassdoor est.)</td>\n",
       "      <td>General Summary:\\n\\nThe position plays a criti...</td>\n",
       "      <td>Elevate Credit\\n3.6</td>\n",
       "      <td>Addison, TX</td>\n",
       "      <td>-1</td>\n",
       "      <td>501 to 1000 Employees</td>\n",
       "      <td>2014</td>\n",
       "      <td>Company - Public</td>\n",
       "      <td>Lending</td>\n",
       "      <td>...</td>\n",
       "      <td>750.5</td>\n",
       "      <td>6.0</td>\n",
       "      <td>3.6</td>\n",
       "      <td>data scientist</td>\n",
       "      <td>0</td>\n",
       "      <td>0</td>\n",
       "      <td>1</td>\n",
       "      <td>0</td>\n",
       "      <td>0</td>\n",
       "      <td>0</td>\n",
       "    </tr>\n",
       "    <tr>\n",
       "      <th>2</th>\n",
       "      <td>R&amp;D Scientist</td>\n",
       "      <td>$31K-$72K\\n(Glassdoor est.)</td>\n",
       "      <td>Our Research and Development department is on ...</td>\n",
       "      <td>Chobani\\n4.3</td>\n",
       "      <td>Twin Falls, ID</td>\n",
       "      <td>-1</td>\n",
       "      <td>1001 to 5000 Employees</td>\n",
       "      <td>2005</td>\n",
       "      <td>Company - Private</td>\n",
       "      <td>Food &amp; Beverage Manufacturing</td>\n",
       "      <td>...</td>\n",
       "      <td>3000.5</td>\n",
       "      <td>15.0</td>\n",
       "      <td>4.3</td>\n",
       "      <td>data scientist</td>\n",
       "      <td>0</td>\n",
       "      <td>0</td>\n",
       "      <td>1</td>\n",
       "      <td>0</td>\n",
       "      <td>0</td>\n",
       "      <td>0</td>\n",
       "    </tr>\n",
       "    <tr>\n",
       "      <th>3</th>\n",
       "      <td>Manufacturing Scientist</td>\n",
       "      <td>$41K-$91K\\n(Glassdoor est.)</td>\n",
       "      <td>Biomerica Corporation focusing on the research...</td>\n",
       "      <td>Biomerica\\n2.5</td>\n",
       "      <td>Irvine, CA</td>\n",
       "      <td>-1</td>\n",
       "      <td>1 to 50 Employees</td>\n",
       "      <td>-1</td>\n",
       "      <td>Company - Public</td>\n",
       "      <td>Biotech &amp; Pharmaceuticals</td>\n",
       "      <td>...</td>\n",
       "      <td>25.5</td>\n",
       "      <td>12.5</td>\n",
       "      <td>2.5</td>\n",
       "      <td>data scientist</td>\n",
       "      <td>0</td>\n",
       "      <td>0</td>\n",
       "      <td>1</td>\n",
       "      <td>0</td>\n",
       "      <td>0</td>\n",
       "      <td>0</td>\n",
       "    </tr>\n",
       "    <tr>\n",
       "      <th>4</th>\n",
       "      <td>HCM Data Analyst</td>\n",
       "      <td>$55K-$94K\\n(Glassdoor est.)</td>\n",
       "      <td>Any qualified individual with a disability who...</td>\n",
       "      <td>Austal USA\\n3.2</td>\n",
       "      <td>Mobile, AL</td>\n",
       "      <td>-1</td>\n",
       "      <td>1001 to 5000 Employees</td>\n",
       "      <td>1988</td>\n",
       "      <td>Company - Public</td>\n",
       "      <td>Industrial Manufacturing</td>\n",
       "      <td>...</td>\n",
       "      <td>3000.5</td>\n",
       "      <td>32.0</td>\n",
       "      <td>3.2</td>\n",
       "      <td>analyst</td>\n",
       "      <td>1</td>\n",
       "      <td>0</td>\n",
       "      <td>0</td>\n",
       "      <td>0</td>\n",
       "      <td>0</td>\n",
       "      <td>0</td>\n",
       "    </tr>\n",
       "  </tbody>\n",
       "</table>\n",
       "<p>5 rows × 37 columns</p>\n",
       "</div>"
      ],
      "text/plain": [
       "                               Job Title                Salary Estimate  \\\n",
       "0                         DATA SCIENTIST    $54K-$92K\\n(Glassdoor est.)   \n",
       "1  Sr. Data Scientist - Model Governance  $101K-$163K\\n(Glassdoor est.)   \n",
       "2                          R&D Scientist    $31K-$72K\\n(Glassdoor est.)   \n",
       "3                Manufacturing Scientist    $41K-$91K\\n(Glassdoor est.)   \n",
       "4                       HCM Data Analyst    $55K-$94K\\n(Glassdoor est.)   \n",
       "\n",
       "                                     Job Description            Company Name  \\\n",
       "0  JOB SUMMARY\\n\\nThe position will focus on buil...  Blessing Hospital\\n3.8   \n",
       "1  General Summary:\\n\\nThe position plays a criti...     Elevate Credit\\n3.6   \n",
       "2  Our Research and Development department is on ...            Chobani\\n4.3   \n",
       "3  Biomerica Corporation focusing on the research...          Biomerica\\n2.5   \n",
       "4  Any qualified individual with a disability who...         Austal USA\\n3.2   \n",
       "\n",
       "         Location  Headquarters                    Size  Founded  \\\n",
       "0      Quincy, IL            -1  1001 to 5000 Employees     1875   \n",
       "1     Addison, TX            -1   501 to 1000 Employees     2014   \n",
       "2  Twin Falls, ID            -1  1001 to 5000 Employees     2005   \n",
       "3      Irvine, CA            -1       1 to 50 Employees       -1   \n",
       "4      Mobile, AL            -1  1001 to 5000 Employees     1988   \n",
       "\n",
       "        Type of ownership                          Industry  ... avg_size  \\\n",
       "0  Nonprofit Organization  Health Care Services & Hospitals  ...   3000.5   \n",
       "1        Company - Public                           Lending  ...    750.5   \n",
       "2       Company - Private     Food & Beverage Manufacturing  ...   3000.5   \n",
       "3        Company - Public         Biotech & Pharmaceuticals  ...     25.5   \n",
       "4        Company - Public          Industrial Manufacturing  ...   3000.5   \n",
       "\n",
       "     age  Rating        job_simp  analyst  data engineer  data scientist  \\\n",
       "0  145.0     3.8  data scientist        0              0               1   \n",
       "1    6.0     3.6  data scientist        0              0               1   \n",
       "2   15.0     4.3  data scientist        0              0               1   \n",
       "3   12.5     2.5  data scientist        0              0               1   \n",
       "4   32.0     3.2         analyst        1              0               0   \n",
       "\n",
       "   director manager mle  \n",
       "0         0       0   0  \n",
       "1         0       0   0  \n",
       "2         0       0   0  \n",
       "3         0       0   0  \n",
       "4         0       0   0  \n",
       "\n",
       "[5 rows x 37 columns]"
      ]
     },
     "execution_count": 200,
     "metadata": {},
     "output_type": "execute_result"
    }
   ],
   "source": [
    "new_df.head()"
   ]
  },
  {
   "cell_type": "code",
   "execution_count": 201,
   "metadata": {},
   "outputs": [
    {
     "data": {
      "text/plain": [
       "0    615\n",
       "1    155\n",
       "Name: seniority, dtype: int64"
      ]
     },
     "execution_count": 201,
     "metadata": {},
     "output_type": "execute_result"
    }
   ],
   "source": [
    "new_df['seniority'] = new_df['Job Title'].apply(seniority)\n",
    "new_df.seniority.value_counts()"
   ]
  },
  {
   "cell_type": "code",
   "execution_count": 202,
   "metadata": {},
   "outputs": [
    {
     "data": {
      "text/plain": [
       "4777    8\n",
       "2668    7\n",
       "4429    7\n",
       "2481    6\n",
       "5877    5\n",
       "       ..\n",
       "3677    1\n",
       "5726    1\n",
       "3694    1\n",
       "4564    1\n",
       "3078    1\n",
       "Name: desc_len, Length: 454, dtype: int64"
      ]
     },
     "execution_count": 202,
     "metadata": {},
     "output_type": "execute_result"
    }
   ],
   "source": [
    "new_df['desc_len'] = df['Job Description'].apply(lambda x: len(x))\n",
    "new_df['desc_len'].value_counts()"
   ]
  },
  {
   "cell_type": "code",
   "execution_count": 203,
   "metadata": {},
   "outputs": [
    {
     "data": {
      "text/plain": [
       " CA    199\n",
       " VA     82\n",
       " NY     73\n",
       " MA     68\n",
       " MD     48\n",
       " IL     33\n",
       " FL     26\n",
       " OH     24\n",
       " TX     20\n",
       " WA     19\n",
       " DC     19\n",
       " NC     15\n",
       " AZ     13\n",
       " PA     12\n",
       " MN     11\n",
       " CO     11\n",
       " MO     11\n",
       " TN     11\n",
       " AL      9\n",
       " NJ      8\n",
       " GA      7\n",
       " MI      7\n",
       " WI      7\n",
       " CT      5\n",
       " SC      5\n",
       " IN      4\n",
       " IA      4\n",
       " OR      3\n",
       " KS      3\n",
       " NM      3\n",
       " UT      2\n",
       " MS      2\n",
       " DE      1\n",
       " AR      1\n",
       " ID      1\n",
       " RI      1\n",
       " ND      1\n",
       " WY      1\n",
       "Name: job_state, dtype: int64"
      ]
     },
     "execution_count": 203,
     "metadata": {},
     "output_type": "execute_result"
    }
   ],
   "source": [
    "new_df.job_state.value_counts()"
   ]
  },
  {
   "cell_type": "code",
   "execution_count": 204,
   "metadata": {},
   "outputs": [
    {
     "data": {
      "text/plain": [
       "-1    770\n",
       "Name: Competitors, dtype: int64"
      ]
     },
     "execution_count": 204,
     "metadata": {},
     "output_type": "execute_result"
    }
   ],
   "source": [
    "new_df['Competitors'].value_counts()"
   ]
  },
  {
   "cell_type": "code",
   "execution_count": 205,
   "metadata": {},
   "outputs": [],
   "source": [
    "new_df['min_salary'] = new_df.apply(lambda x: x.min_salary*2 if x.hourly ==1 else x.min_salary, axis =1)\n",
    "new_df['max_salary'] = new_df.apply(lambda x: x.max_salary*2 if x.hourly ==1 else x.max_salary, axis =1)"
   ]
  },
  {
   "cell_type": "code",
   "execution_count": 206,
   "metadata": {},
   "outputs": [
    {
     "data": {
      "text/html": [
       "<div>\n",
       "<style scoped>\n",
       "    .dataframe tbody tr th:only-of-type {\n",
       "        vertical-align: middle;\n",
       "    }\n",
       "\n",
       "    .dataframe tbody tr th {\n",
       "        vertical-align: top;\n",
       "    }\n",
       "\n",
       "    .dataframe thead th {\n",
       "        text-align: right;\n",
       "    }\n",
       "</style>\n",
       "<table border=\"1\" class=\"dataframe\">\n",
       "  <thead>\n",
       "    <tr style=\"text-align: right;\">\n",
       "      <th></th>\n",
       "      <th>hourly</th>\n",
       "      <th>min_salary</th>\n",
       "      <th>max_salary</th>\n",
       "    </tr>\n",
       "  </thead>\n",
       "  <tbody>\n",
       "    <tr>\n",
       "      <th>49</th>\n",
       "      <td>1</td>\n",
       "      <td>40</td>\n",
       "      <td>56</td>\n",
       "    </tr>\n",
       "    <tr>\n",
       "      <th>376</th>\n",
       "      <td>1</td>\n",
       "      <td>108</td>\n",
       "      <td>184</td>\n",
       "    </tr>\n",
       "    <tr>\n",
       "      <th>399</th>\n",
       "      <td>1</td>\n",
       "      <td>108</td>\n",
       "      <td>184</td>\n",
       "    </tr>\n",
       "    <tr>\n",
       "      <th>553</th>\n",
       "      <td>1</td>\n",
       "      <td>108</td>\n",
       "      <td>184</td>\n",
       "    </tr>\n",
       "    <tr>\n",
       "      <th>557</th>\n",
       "      <td>1</td>\n",
       "      <td>90</td>\n",
       "      <td>110</td>\n",
       "    </tr>\n",
       "  </tbody>\n",
       "</table>\n",
       "</div>"
      ],
      "text/plain": [
       "     hourly  min_salary  max_salary\n",
       "49        1          40          56\n",
       "376       1         108         184\n",
       "399       1         108         184\n",
       "553       1         108         184\n",
       "557       1          90         110"
      ]
     },
     "execution_count": 206,
     "metadata": {},
     "output_type": "execute_result"
    }
   ],
   "source": [
    "new_df[new_df.hourly ==1][['hourly','min_salary','max_salary']]"
   ]
  },
  {
   "cell_type": "code",
   "execution_count": 207,
   "metadata": {},
   "outputs": [
    {
     "data": {
      "text/plain": [
       "0                        Blessing Hospital\n",
       "1                           Elevate Credit\n",
       "2                                  Chobani\n",
       "3                                Biomerica\n",
       "4                               Austal USA\n",
       "                      ...                 \n",
       "765                     Medidata Solutions\n",
       "766                           Fortego, LLC\n",
       "767    Designer Brands (DSW, Camuto Group)\n",
       "768                          PA Consulting\n",
       "769                                Waystar\n",
       "Name: company_txt, Length: 770, dtype: object"
      ]
     },
     "execution_count": 207,
     "metadata": {},
     "output_type": "execute_result"
    }
   ],
   "source": [
    "new_df['company_txt'] = new_df.company_txt.apply(lambda x: x.replace('\\n', ''))\n",
    "new_df['company_txt']"
   ]
  },
  {
   "cell_type": "code",
   "execution_count": 208,
   "metadata": {
    "scrolled": true
   },
   "outputs": [
    {
     "data": {
      "text/html": [
       "<div>\n",
       "<style scoped>\n",
       "    .dataframe tbody tr th:only-of-type {\n",
       "        vertical-align: middle;\n",
       "    }\n",
       "\n",
       "    .dataframe tbody tr th {\n",
       "        vertical-align: top;\n",
       "    }\n",
       "\n",
       "    .dataframe thead th {\n",
       "        text-align: right;\n",
       "    }\n",
       "</style>\n",
       "<table border=\"1\" class=\"dataframe\">\n",
       "  <thead>\n",
       "    <tr style=\"text-align: right;\">\n",
       "      <th></th>\n",
       "      <th>Headquarters</th>\n",
       "      <th>Founded</th>\n",
       "      <th>Competitors</th>\n",
       "      <th>hourly</th>\n",
       "      <th>employer_provided</th>\n",
       "      <th>min_salary</th>\n",
       "      <th>max_salary</th>\n",
       "      <th>avg_salary</th>\n",
       "      <th>python_</th>\n",
       "      <th>R_</th>\n",
       "      <th>...</th>\n",
       "      <th>age</th>\n",
       "      <th>Rating</th>\n",
       "      <th>analyst</th>\n",
       "      <th>data engineer</th>\n",
       "      <th>data scientist</th>\n",
       "      <th>director</th>\n",
       "      <th>manager</th>\n",
       "      <th>mle</th>\n",
       "      <th>seniority</th>\n",
       "      <th>desc_len</th>\n",
       "    </tr>\n",
       "  </thead>\n",
       "  <tbody>\n",
       "    <tr>\n",
       "      <th>count</th>\n",
       "      <td>770.0</td>\n",
       "      <td>770.000000</td>\n",
       "      <td>770.0</td>\n",
       "      <td>770.000000</td>\n",
       "      <td>770.000000</td>\n",
       "      <td>770.000000</td>\n",
       "      <td>770.000000</td>\n",
       "      <td>770.000000</td>\n",
       "      <td>770.000000</td>\n",
       "      <td>770.000000</td>\n",
       "      <td>...</td>\n",
       "      <td>770.000000</td>\n",
       "      <td>770.000000</td>\n",
       "      <td>770.000000</td>\n",
       "      <td>770.000000</td>\n",
       "      <td>770.000000</td>\n",
       "      <td>770.000000</td>\n",
       "      <td>770.000000</td>\n",
       "      <td>770.000000</td>\n",
       "      <td>770.000000</td>\n",
       "      <td>770.000000</td>\n",
       "    </tr>\n",
       "    <tr>\n",
       "      <th>mean</th>\n",
       "      <td>-1.0</td>\n",
       "      <td>1848.763636</td>\n",
       "      <td>-1.0</td>\n",
       "      <td>0.006494</td>\n",
       "      <td>0.016883</td>\n",
       "      <td>79.089610</td>\n",
       "      <td>130.290909</td>\n",
       "      <td>104.309740</td>\n",
       "      <td>0.640260</td>\n",
       "      <td>0.009091</td>\n",
       "      <td>...</td>\n",
       "      <td>44.857887</td>\n",
       "      <td>3.783050</td>\n",
       "      <td>0.197403</td>\n",
       "      <td>0.076623</td>\n",
       "      <td>0.584416</td>\n",
       "      <td>0.012987</td>\n",
       "      <td>0.019481</td>\n",
       "      <td>0.109091</td>\n",
       "      <td>0.201299</td>\n",
       "      <td>3870.663636</td>\n",
       "    </tr>\n",
       "    <tr>\n",
       "      <th>std</th>\n",
       "      <td>0.0</td>\n",
       "      <td>484.282810</td>\n",
       "      <td>0.0</td>\n",
       "      <td>0.080372</td>\n",
       "      <td>0.128917</td>\n",
       "      <td>29.247138</td>\n",
       "      <td>42.501845</td>\n",
       "      <td>35.372528</td>\n",
       "      <td>0.480236</td>\n",
       "      <td>0.094974</td>\n",
       "      <td>...</td>\n",
       "      <td>41.763659</td>\n",
       "      <td>0.536181</td>\n",
       "      <td>0.398297</td>\n",
       "      <td>0.266166</td>\n",
       "      <td>0.493143</td>\n",
       "      <td>0.113292</td>\n",
       "      <td>0.138296</td>\n",
       "      <td>0.311956</td>\n",
       "      <td>0.401231</td>\n",
       "      <td>1587.744694</td>\n",
       "    </tr>\n",
       "    <tr>\n",
       "      <th>min</th>\n",
       "      <td>-1.0</td>\n",
       "      <td>-1.000000</td>\n",
       "      <td>-1.0</td>\n",
       "      <td>0.000000</td>\n",
       "      <td>0.000000</td>\n",
       "      <td>12.000000</td>\n",
       "      <td>51.000000</td>\n",
       "      <td>24.000000</td>\n",
       "      <td>0.000000</td>\n",
       "      <td>0.000000</td>\n",
       "      <td>...</td>\n",
       "      <td>1.000000</td>\n",
       "      <td>1.000000</td>\n",
       "      <td>0.000000</td>\n",
       "      <td>0.000000</td>\n",
       "      <td>0.000000</td>\n",
       "      <td>0.000000</td>\n",
       "      <td>0.000000</td>\n",
       "      <td>0.000000</td>\n",
       "      <td>0.000000</td>\n",
       "      <td>327.000000</td>\n",
       "    </tr>\n",
       "    <tr>\n",
       "      <th>25%</th>\n",
       "      <td>-1.0</td>\n",
       "      <td>1945.000000</td>\n",
       "      <td>-1.0</td>\n",
       "      <td>0.000000</td>\n",
       "      <td>0.000000</td>\n",
       "      <td>56.000000</td>\n",
       "      <td>98.000000</td>\n",
       "      <td>77.125000</td>\n",
       "      <td>0.000000</td>\n",
       "      <td>0.000000</td>\n",
       "      <td>...</td>\n",
       "      <td>15.000000</td>\n",
       "      <td>3.500000</td>\n",
       "      <td>0.000000</td>\n",
       "      <td>0.000000</td>\n",
       "      <td>0.000000</td>\n",
       "      <td>0.000000</td>\n",
       "      <td>0.000000</td>\n",
       "      <td>0.000000</td>\n",
       "      <td>0.000000</td>\n",
       "      <td>2711.500000</td>\n",
       "    </tr>\n",
       "    <tr>\n",
       "      <th>50%</th>\n",
       "      <td>-1.0</td>\n",
       "      <td>1988.000000</td>\n",
       "      <td>-1.0</td>\n",
       "      <td>0.000000</td>\n",
       "      <td>0.000000</td>\n",
       "      <td>77.000000</td>\n",
       "      <td>127.000000</td>\n",
       "      <td>102.000000</td>\n",
       "      <td>1.000000</td>\n",
       "      <td>0.000000</td>\n",
       "      <td>...</td>\n",
       "      <td>27.000000</td>\n",
       "      <td>3.800000</td>\n",
       "      <td>0.000000</td>\n",
       "      <td>0.000000</td>\n",
       "      <td>1.000000</td>\n",
       "      <td>0.000000</td>\n",
       "      <td>0.000000</td>\n",
       "      <td>0.000000</td>\n",
       "      <td>0.000000</td>\n",
       "      <td>3760.000000</td>\n",
       "    </tr>\n",
       "    <tr>\n",
       "      <th>75%</th>\n",
       "      <td>-1.0</td>\n",
       "      <td>2005.000000</td>\n",
       "      <td>-1.0</td>\n",
       "      <td>0.000000</td>\n",
       "      <td>0.000000</td>\n",
       "      <td>97.000000</td>\n",
       "      <td>155.000000</td>\n",
       "      <td>126.375000</td>\n",
       "      <td>1.000000</td>\n",
       "      <td>0.000000</td>\n",
       "      <td>...</td>\n",
       "      <td>62.000000</td>\n",
       "      <td>4.100000</td>\n",
       "      <td>0.000000</td>\n",
       "      <td>0.000000</td>\n",
       "      <td>1.000000</td>\n",
       "      <td>0.000000</td>\n",
       "      <td>0.000000</td>\n",
       "      <td>0.000000</td>\n",
       "      <td>0.000000</td>\n",
       "      <td>4795.000000</td>\n",
       "    </tr>\n",
       "    <tr>\n",
       "      <th>max</th>\n",
       "      <td>-1.0</td>\n",
       "      <td>2019.000000</td>\n",
       "      <td>-1.0</td>\n",
       "      <td>1.000000</td>\n",
       "      <td>1.000000</td>\n",
       "      <td>180.000000</td>\n",
       "      <td>286.000000</td>\n",
       "      <td>233.000000</td>\n",
       "      <td>1.000000</td>\n",
       "      <td>1.000000</td>\n",
       "      <td>...</td>\n",
       "      <td>239.000000</td>\n",
       "      <td>5.000000</td>\n",
       "      <td>1.000000</td>\n",
       "      <td>1.000000</td>\n",
       "      <td>1.000000</td>\n",
       "      <td>1.000000</td>\n",
       "      <td>1.000000</td>\n",
       "      <td>1.000000</td>\n",
       "      <td>1.000000</td>\n",
       "      <td>11406.000000</td>\n",
       "    </tr>\n",
       "  </tbody>\n",
       "</table>\n",
       "<p>8 rows × 26 columns</p>\n",
       "</div>"
      ],
      "text/plain": [
       "       Headquarters      Founded  Competitors      hourly  employer_provided  \\\n",
       "count         770.0   770.000000        770.0  770.000000         770.000000   \n",
       "mean           -1.0  1848.763636         -1.0    0.006494           0.016883   \n",
       "std             0.0   484.282810          0.0    0.080372           0.128917   \n",
       "min            -1.0    -1.000000         -1.0    0.000000           0.000000   \n",
       "25%            -1.0  1945.000000         -1.0    0.000000           0.000000   \n",
       "50%            -1.0  1988.000000         -1.0    0.000000           0.000000   \n",
       "75%            -1.0  2005.000000         -1.0    0.000000           0.000000   \n",
       "max            -1.0  2019.000000         -1.0    1.000000           1.000000   \n",
       "\n",
       "       min_salary  max_salary  avg_salary     python_          R_  ...  \\\n",
       "count  770.000000  770.000000  770.000000  770.000000  770.000000  ...   \n",
       "mean    79.089610  130.290909  104.309740    0.640260    0.009091  ...   \n",
       "std     29.247138   42.501845   35.372528    0.480236    0.094974  ...   \n",
       "min     12.000000   51.000000   24.000000    0.000000    0.000000  ...   \n",
       "25%     56.000000   98.000000   77.125000    0.000000    0.000000  ...   \n",
       "50%     77.000000  127.000000  102.000000    1.000000    0.000000  ...   \n",
       "75%     97.000000  155.000000  126.375000    1.000000    0.000000  ...   \n",
       "max    180.000000  286.000000  233.000000    1.000000    1.000000  ...   \n",
       "\n",
       "              age      Rating     analyst  data engineer  data scientist  \\\n",
       "count  770.000000  770.000000  770.000000     770.000000      770.000000   \n",
       "mean    44.857887    3.783050    0.197403       0.076623        0.584416   \n",
       "std     41.763659    0.536181    0.398297       0.266166        0.493143   \n",
       "min      1.000000    1.000000    0.000000       0.000000        0.000000   \n",
       "25%     15.000000    3.500000    0.000000       0.000000        0.000000   \n",
       "50%     27.000000    3.800000    0.000000       0.000000        1.000000   \n",
       "75%     62.000000    4.100000    0.000000       0.000000        1.000000   \n",
       "max    239.000000    5.000000    1.000000       1.000000        1.000000   \n",
       "\n",
       "         director     manager         mle   seniority      desc_len  \n",
       "count  770.000000  770.000000  770.000000  770.000000    770.000000  \n",
       "mean     0.012987    0.019481    0.109091    0.201299   3870.663636  \n",
       "std      0.113292    0.138296    0.311956    0.401231   1587.744694  \n",
       "min      0.000000    0.000000    0.000000    0.000000    327.000000  \n",
       "25%      0.000000    0.000000    0.000000    0.000000   2711.500000  \n",
       "50%      0.000000    0.000000    0.000000    0.000000   3760.000000  \n",
       "75%      0.000000    0.000000    0.000000    0.000000   4795.000000  \n",
       "max      1.000000    1.000000    1.000000    1.000000  11406.000000  \n",
       "\n",
       "[8 rows x 26 columns]"
      ]
     },
     "execution_count": 208,
     "metadata": {},
     "output_type": "execute_result"
    }
   ],
   "source": [
    "new_df.describe()"
   ]
  },
  {
   "cell_type": "code",
   "execution_count": 209,
   "metadata": {},
   "outputs": [
    {
     "data": {
      "text/plain": [
       "Index(['Job Title', 'Salary Estimate', 'Job Description', 'Company Name',\n",
       "       'Location', 'Headquarters', 'Size', 'Founded', 'Type of ownership',\n",
       "       'Industry', 'Sector', 'Revenue', 'Competitors', 'hourly',\n",
       "       'employer_provided', 'min_salary', 'max_salary', 'avg_salary',\n",
       "       'company_txt', 'job_state', 'python_', 'R_', 'spark_', 'aws_', 'excel_',\n",
       "       'private', 'avg_revenue', 'avg_size', 'age', 'Rating', 'job_simp',\n",
       "       'analyst', 'data engineer', 'data scientist', 'director', 'manager',\n",
       "       'mle', 'seniority', 'desc_len'],\n",
       "      dtype='object')"
      ]
     },
     "execution_count": 209,
     "metadata": {},
     "output_type": "execute_result"
    }
   ],
   "source": [
    "new_df.columns"
   ]
  },
  {
   "cell_type": "code",
   "execution_count": 210,
   "metadata": {},
   "outputs": [
    {
     "data": {
      "text/plain": [
       "Information Technology          224\n",
       "Business Services                82\n",
       "Finance                          71\n",
       "Biotech & Pharmaceuticals        64\n",
       "Insurance                        55\n",
       "Health Care                      52\n",
       "Government                       37\n",
       "Aerospace & Defense              33\n",
       "Manufacturing                    31\n",
       "Retail                           28\n",
       "Media                            27\n",
       "-1                               18\n",
       "Oil, Gas, Energy & Utilities     11\n",
       "Telecommunications                6\n",
       "Education                         6\n",
       "Agriculture & Forestry            6\n",
       "Non-Profit                        6\n",
       "Consumer Services                 6\n",
       "Accounting & Legal                3\n",
       "Travel & Tourism                  2\n",
       "Transportation & Logistics        1\n",
       "Real Estate                       1\n",
       "Name: Sector, dtype: int64"
      ]
     },
     "execution_count": 210,
     "metadata": {},
     "output_type": "execute_result"
    }
   ],
   "source": [
    "new_df.Sector.value_counts()"
   ]
  },
  {
   "cell_type": "code",
   "execution_count": 211,
   "metadata": {},
   "outputs": [],
   "source": [
    "from sklearn.cluster import KMeans\n",
    "from sklearn.preprocessing import StandardScaler"
   ]
  },
  {
   "cell_type": "code",
   "execution_count": 212,
   "metadata": {},
   "outputs": [],
   "source": [
    "df_test = new_df[['Rating', 'avg_salary', 'age', 'avg_revenue', 'avg_size', 'desc_len']]"
   ]
  },
  {
   "cell_type": "code",
   "execution_count": 213,
   "metadata": {},
   "outputs": [],
   "source": [
    "scaler = StandardScaler()\n",
    "X = scaler.fit(df_test).transform(df_test)"
   ]
  },
  {
   "cell_type": "code",
   "execution_count": 214,
   "metadata": {},
   "outputs": [],
   "source": [
    "inertias = []\n",
    "for i in range(1, 15):\n",
    "    model = KMeans(n_clusters=i, init='k-means++')\n",
    "    model.fit(X)\n",
    "    inertias.append(model.inertia_)"
   ]
  },
  {
   "cell_type": "code",
   "execution_count": 215,
   "metadata": {},
   "outputs": [
    {
     "data": {
      "image/png": "[encoded data removed]",
      "text/plain": [
       "<Figure size 432x288 with 1 Axes>"
      ]
     },
     "metadata": {
      "needs_background": "light"
     },
     "output_type": "display_data"
    }
   ],
   "source": [
    "num_clusters = [i for i in range(1, 15)]\n",
    "plt.plot(num_clusters, inertias, '-o')\n",
    "plt.show()"
   ]
  },
  {
   "cell_type": "code",
   "execution_count": 216,
   "metadata": {},
   "outputs": [],
   "source": [
    "model = KMeans(n_clusters=6, init='k-means++')\n",
    "model.fit(X)\n",
    "labels = model.predict(X)"
   ]
  },
  {
   "cell_type": "code",
   "execution_count": 217,
   "metadata": {},
   "outputs": [
    {
     "name": "stdout",
     "output_type": "stream",
     "text": [
      "[3 5 0 3 3 1 0 0 3 0 5 2 0 1 5 3 2 0 3 0 3 3 2 3 0 4 2 3 5 0 2 3 3 2 3 3 1\n",
      " 0 0 0 2 0 0 3 3 5 5 1 5 4 3 3 4 3 3 0 3 3 5 3 3 4 3 0 5 3 4 2 0 5 5 4 3 3\n",
      " 3 5 0 2 2 5 0 1 0 3 3 0 1 0 3 1 5 0 3 3 5 0 2 0 4 1 2 5 3 5 1 2 5 0 5 3 1\n",
      " 4 3 0 3 3 0 0 4 4 2 3 5 4 1 0 3 0 5 3 0 1 2 3 2 2 1 0 3 0 0 5 0 0 3 0 1 5\n",
      " 0 0 4 0 3 3 0 1 4 4 5 3 5 0 5 0 2 4 0 5 3 3 3 4 1 3 0 2 4 0 3 0 0 3 3 2 0\n",
      " 5 3 5 0 3 3 0 2 0 1 3 4 1 5 2 3 5 2 2 2 3 2 2 3 3 5 1 2 5 2 0 0 3 0 3 3 0\n",
      " 5 2 4 5 2 0 1 2 5 4 5 2 0 5 4 0 0 5 0 3 4 5 0 2 4 3 1 0 0 2 3 5 1 4 0 1 3\n",
      " 0 5 4 1 0 3 5 1 4 3 2 0 3 5 0 3 3 0 0 0 3 5 5 5 3 2 4 2 0 0 3 1 3 0 5 2 0\n",
      " 4 5 3 3 2 4 0 3 5 2 3 3 3 2 5 5 1 4 3 1 0 0 5 0 0 2 0 5 0 5 2 0 0 5 4 0 0\n",
      " 5 3 3 2 5 2 4 5 5 0 3 0 2 3 3 1 0 1 0 4 1 0 3 2 3 3 1 1 1 1 0 2 0 0 1 3 0\n",
      " 3 0 1 1 3 2 1 2 2 4 4 1 0 3 1 5 0 2 4 3 3 3 3 3 3 3 4 0 2 1 3 3 3 3 4 3 0\n",
      " 3 3 4 1 4 4 2 3 3 3 0 4 3 4 4 4 0 3 2 4 0 5 2 5 3 0 2 2 5 4 1 5 3 1 3 0 5\n",
      " 0 0 1 0 4 5 5 2 0 2 2 3 3 4 2 3 0 5 2 0 2 5 3 0 0 4 5 2 4 0 0 5 2 0 0 4 0\n",
      " 5 1 5 3 4 0 0 0 3 2 3 4 2 3 2 3 1 0 1 1 0 2 2 0 2 0 4 0 0 3 1 2 4 5 3 0 2\n",
      " 1 1 5 3 5 0 5 3 2 3 3 0 3 4 5 4 2 2 0 0 4 1 1 0 1 3 5 0 2 2 2 3 3 4 4 1 5\n",
      " 2 2 0 4 3 3 3 1 3 3 1 3 5 3 3 3 4 3 3 2 4 0 4 3 5 0 5 5 3 3 4 4 1 4 4 3 2\n",
      " 5 3 3 4 3 0 3 3 3 5 5 4 4 2 1 3 4 4 5 0 5 0 3 5 0 2 4 1 3 5 5 1 4 3 5 0 1\n",
      " 0 0 4 0 0 3 1 0 3 0 1 2 2 5 4 3 0 2 2 3 0 2 5 1 1 5 3 5 0 5 4 0 1 4 3 4 0\n",
      " 3 5 0 3 0 1 5 0 1 5 4 5 5 4 0 0 5 0 4 5 0 0 0 5 5 3 3 0 0 4 4 0 2 5 0 2 3\n",
      " 4 1 0 1 4 4 5 0 0 0 5 5 3 3 0 0 4 4 0 2 5 0 2 3 4 1 0 1 4 4 5 0 0 0 5 5 3\n",
      " 3 0 0 4 4 0 2 5 0 2 3 4 1 0 1 4 4 5 0 0 0 5 5 3 3 0 0 4 4 0]\n"
     ]
    }
   ],
   "source": [
    "print(labels)"
   ]
  },
  {
   "cell_type": "code",
   "execution_count": 218,
   "metadata": {},
   "outputs": [],
   "source": [
    "x = X[:,0]\n",
    "y = X[:,1]\n",
    "z = X[:,2]"
   ]
  },
  {
   "cell_type": "code",
   "execution_count": 219,
   "metadata": {},
   "outputs": [
    {
     "data": {
      "image/png": "[encoded data removed]",
      "text/plain": [
       "<Figure size 432x288 with 1 Axes>"
      ]
     },
     "metadata": {
      "needs_background": "light"
     },
     "output_type": "display_data"
    }
   ],
   "source": [
    "#fig = plt.figure()\n",
    "ax = plt.axes(projection='3d')\n",
    "ax.scatter(x, y, z, c=labels, alpha = 0.5)\n",
    "ax.set_xlabel('X Label')\n",
    "ax.set_ylabel('Y Label')\n",
    "ax.set_zlabel('Z Label')\n",
    "\n",
    "plt.show()"
   ]
  },
  {
   "cell_type": "code",
   "execution_count": 220,
   "metadata": {},
   "outputs": [
    {
     "data": {
      "application/vnd.jupyter.widget-view+json": {
       "model_id": "059610d67a3c49529e79a56eabaf9b9f",
       "version_major": 2,
       "version_minor": 0
      },
      "text/plain": [
       "VBox(children=(Figure(camera=PerspectiveCamera(fov=46.0, position=(0.0, 0.0, 2.0), projectionMatrix=(1.0, 0.0,…"
      ]
     },
     "metadata": {},
     "output_type": "display_data"
    }
   ],
   "source": [
    "import ipyvolume as ipv\n",
    "fig = ipv.figure()\n",
    "ipv.scatter(x, y, z, size=1, marker=\"sphere\")\n",
    "ipv.show()"
   ]
  },
  {
   "cell_type": "code",
   "execution_count": 221,
   "metadata": {},
   "outputs": [],
   "source": [
    "columns_to_normalize = ['Rating', 'avg_salary', 'age', 'avg_revenue', 'avg_size', 'desc_len']\n",
    "new_df[columns_to_normalize] = new_df[columns_to_normalize].apply(lambda x: (x - x.mean()) / np.std(x))"
   ]
  },
  {
   "cell_type": "code",
   "execution_count": 222,
   "metadata": {},
   "outputs": [],
   "source": [
    "test_df_ = new_df[['Rating', 'avg_salary', 'age', 'avg_revenue', 'avg_size', 'desc_len', 'private', 'python_', 'R_', 'spark_', 'aws_', 'excel_','analyst', 'data engineer', 'data scientist', 'director', 'manager',\n",
    "       'mle', 'seniority']]"
   ]
  },
  {
   "cell_type": "code",
   "execution_count": 240,
   "metadata": {},
   "outputs": [],
   "source": [
    "matrix = test_df_.to_numpy()"
   ]
  },
  {
   "cell_type": "code",
   "execution_count": 224,
   "metadata": {},
   "outputs": [],
   "source": [
    "from kmodes.kprototypes import KPrototypes"
   ]
  },
  {
   "cell_type": "code",
   "execution_count": 225,
   "metadata": {},
   "outputs": [
    {
     "data": {
      "text/plain": [
       "[<matplotlib.lines.Line2D at 0x2147d72f708>]"
      ]
     },
     "execution_count": 225,
     "metadata": {},
     "output_type": "execute_result"
    },
    {
     "data": {
      "image/png": "[encoded data removed]",
      "text/plain": [
       "<Figure size 432x288 with 1 Axes>"
      ]
     },
     "metadata": {
      "needs_background": "light"
     },
     "output_type": "display_data"
    }
   ],
   "source": [
    "cost = []\n",
    "for num_clusters in list(range(1,14)):\n",
    "    kproto = KPrototypes(n_clusters=num_clusters, init='Cao')\n",
    "    kproto.fit_predict(matrix, categorical=[6, 7, 8, 9, 10, 11, 12, 13, 14, 15, 16, 17, 18])\n",
    "    cost.append(kproto.cost_)\n",
    "    \n",
    "plt.plot(cost)"
   ]
  },
  {
   "cell_type": "code",
   "execution_count": 226,
   "metadata": {},
   "outputs": [
    {
     "data": {
      "text/plain": [
       "[<matplotlib.lines.Line2D at 0x21403621288>]"
      ]
     },
     "execution_count": 226,
     "metadata": {},
     "output_type": "execute_result"
    },
    {
     "data": {
      "image/png": "[encoded data removed]",
      "text/plain": [
       "<Figure size 432x288 with 1 Axes>"
      ]
     },
     "metadata": {
      "needs_background": "light"
     },
     "output_type": "display_data"
    }
   ],
   "source": [
    "cost = []\n",
    "for num_clusters in list(range(1,14)):\n",
    "    kproto = KPrototypes(n_clusters=num_clusters, init='Huang')\n",
    "    kproto.fit_predict(matrix, categorical=[6, 7, 8, 9, 10, 11, 12, 13, 14, 15, 16, 17, 18])\n",
    "    cost.append(kproto.cost_)\n",
    "    \n",
    "plt.plot(cost)"
   ]
  },
  {
   "cell_type": "code",
   "execution_count": 227,
   "metadata": {},
   "outputs": [
    {
     "data": {
      "text/plain": [
       "[<matplotlib.lines.Line2D at 0x2140367d6c8>]"
      ]
     },
     "execution_count": 227,
     "metadata": {},
     "output_type": "execute_result"
    },
    {
     "data": {
      "image/png": "[encoded data removed]",
      "text/plain": [
       "<Figure size 432x288 with 1 Axes>"
      ]
     },
     "metadata": {
      "needs_background": "light"
     },
     "output_type": "display_data"
    }
   ],
   "source": [
    "cost = []\n",
    "for num_clusters in list(range(1,14)):\n",
    "    kproto = KPrototypes(n_clusters=num_clusters, init='random')\n",
    "    kproto.fit_predict(matrix, categorical=[6, 7, 8, 9, 10, 11, 12, 13, 14, 15, 16, 17, 18])\n",
    "    cost.append(kproto.cost_)\n",
    "    \n",
    "plt.plot(cost)"
   ]
  },
  {
   "cell_type": "code",
   "execution_count": 228,
   "metadata": {},
   "outputs": [
    {
     "data": {
      "text/plain": [
       "array([4, 2, 3, 4, 4, 0, 3, 3, 4, 3, 2, 0, 3, 0, 2, 3, 0, 2, 4, 2, 4, 4,\n",
       "       0, 4, 3, 1, 0, 4, 2, 3, 0, 3, 4, 2, 4, 4, 0, 3, 3, 3, 0, 3, 3, 3,\n",
       "       3, 2, 2, 0, 2, 1, 4, 4, 1, 3, 4, 3, 4, 4, 4, 4, 4, 1, 3, 3, 2, 4,\n",
       "       1, 0, 3, 4, 2, 1, 4, 4, 4, 2, 3, 0, 0, 2, 3, 0, 2, 3, 3, 2, 0, 2,\n",
       "       3, 0, 2, 3, 3, 4, 2, 3, 0, 3, 4, 0, 0, 2, 3, 2, 0, 0, 2, 3, 2, 4,\n",
       "       0, 1, 4, 3, 4, 4, 2, 3, 1, 1, 0, 3, 2, 1, 0, 3, 3, 3, 2, 4, 3, 0,\n",
       "       0, 3, 0, 0, 0, 3, 4, 3, 2, 2, 2, 3, 4, 3, 0, 2, 3, 2, 1, 3, 4, 4,\n",
       "       2, 0, 1, 1, 2, 3, 2, 2, 4, 3, 0, 1, 2, 2, 4, 2, 4, 1, 0, 4, 3, 0,\n",
       "       4, 3, 4, 3, 2, 3, 4, 0, 3, 2, 3, 2, 3, 4, 4, 3, 0, 3, 0, 4, 1, 1,\n",
       "       2, 0, 4, 2, 0, 0, 0, 3, 0, 0, 3, 3, 2, 0, 0, 2, 4, 3, 3, 4, 3, 4,\n",
       "       3, 2, 2, 0, 1, 2, 0, 2, 0, 0, 2, 1, 2, 0, 2, 2, 1, 2, 3, 2, 3, 4,\n",
       "       1, 2, 3, 0, 1, 4, 0, 3, 3, 0, 3, 2, 0, 1, 2, 0, 4, 3, 2, 1, 0, 3,\n",
       "       3, 2, 0, 1, 4, 0, 2, 4, 2, 2, 4, 4, 3, 2, 2, 4, 2, 4, 4, 4, 0, 1,\n",
       "       0, 3, 2, 4, 0, 4, 3, 2, 0, 2, 1, 2, 4, 4, 0, 4, 2, 4, 2, 0, 4, 2,\n",
       "       4, 0, 2, 2, 0, 1, 4, 0, 3, 2, 2, 2, 2, 0, 2, 2, 2, 2, 0, 3, 3, 2,\n",
       "       1, 3, 3, 2, 4, 3, 0, 2, 0, 1, 2, 2, 3, 4, 3, 0, 4, 4, 0, 3, 0, 3,\n",
       "       1, 4, 3, 4, 0, 4, 4, 0, 0, 0, 0, 2, 0, 3, 3, 0, 4, 3, 3, 3, 0, 0,\n",
       "       4, 0, 0, 0, 0, 1, 1, 0, 3, 4, 0, 2, 3, 0, 1, 4, 4, 4, 4, 4, 4, 3,\n",
       "       1, 3, 0, 0, 4, 4, 4, 4, 1, 3, 3, 3, 4, 1, 0, 1, 4, 0, 3, 4, 4, 3,\n",
       "       1, 4, 1, 4, 1, 2, 4, 0, 1, 2, 2, 0, 2, 4, 3, 0, 0, 2, 1, 0, 2, 3,\n",
       "       0, 4, 3, 2, 2, 3, 0, 2, 1, 2, 2, 0, 3, 2, 0, 3, 4, 1, 0, 4, 2, 2,\n",
       "       0, 3, 0, 2, 4, 3, 3, 1, 2, 0, 1, 2, 3, 2, 0, 2, 3, 1, 3, 2, 0, 2,\n",
       "       4, 1, 2, 3, 3, 4, 0, 4, 1, 0, 4, 0, 4, 0, 3, 0, 0, 2, 0, 0, 3, 0,\n",
       "       2, 1, 3, 3, 4, 0, 4, 1, 2, 3, 3, 0, 0, 0, 2, 4, 2, 3, 2, 4, 0, 4,\n",
       "       4, 3, 4, 1, 2, 1, 0, 0, 3, 3, 1, 0, 0, 3, 0, 4, 2, 3, 0, 0, 0, 4,\n",
       "       4, 1, 1, 0, 2, 0, 0, 3, 1, 3, 4, 4, 0, 4, 4, 0, 4, 2, 4, 4, 3, 1,\n",
       "       4, 3, 0, 1, 3, 1, 3, 2, 2, 2, 2, 4, 4, 1, 1, 0, 4, 1, 4, 0, 2, 4,\n",
       "       3, 1, 4, 3, 4, 3, 4, 2, 2, 1, 1, 0, 0, 3, 1, 1, 2, 3, 2, 3, 4, 4,\n",
       "       3, 0, 1, 0, 4, 4, 2, 0, 1, 4, 2, 3, 0, 2, 2, 1, 3, 3, 4, 0, 2, 4,\n",
       "       3, 4, 1, 0, 2, 1, 3, 3, 0, 1, 3, 3, 0, 2, 0, 0, 2, 4, 2, 3, 2, 1,\n",
       "       3, 0, 1, 4, 1, 3, 4, 2, 3, 4, 2, 0, 2, 3, 0, 2, 1, 2, 2, 1, 3, 2,\n",
       "       2, 3, 1, 2, 2, 3, 3, 2, 2, 4, 4, 2, 2, 1, 1, 2, 0, 4, 3, 0, 3, 1,\n",
       "       0, 3, 0, 1, 1, 2, 2, 3, 3, 2, 2, 4, 4, 2, 2, 1, 1, 2, 0, 4, 3, 0,\n",
       "       3, 1, 0, 3, 0, 1, 1, 2, 2, 3, 3, 2, 2, 4, 4, 2, 2, 1, 1, 2, 0, 4,\n",
       "       3, 0, 3, 1, 0, 3, 0, 1, 1, 2, 2, 3, 3, 2, 2, 4, 4, 2, 2, 1, 1, 2],\n",
       "      dtype=uint16)"
      ]
     },
     "execution_count": 228,
     "metadata": {},
     "output_type": "execute_result"
    }
   ],
   "source": [
    "kproto = KPrototypes(n_clusters=5, init='Cao')\n",
    "kproto.fit_predict(matrix, categorical=[6, 7, 8, 9, 10, 11, 12, 13, 14, 15, 16, 17, 18])"
   ]
  },
  {
   "cell_type": "code",
   "execution_count": 229,
   "metadata": {},
   "outputs": [
    {
     "data": {
      "text/plain": [
       "[array([[-0.01783396,  0.15159837,  0.81183262,  1.70869087,  1.46359166,\n",
       "          0.11958809],\n",
       "        [-0.39684386, -0.15597997,  0.54861328, -0.26920348,  0.71829611,\n",
       "          1.3483716 ],\n",
       "        [ 0.66637059,  1.05878425, -0.60398334, -0.53815478, -0.66201867,\n",
       "         -0.4814716 ],\n",
       "        [ 0.57360649, -0.83867967, -0.3638629 , -0.63249336, -0.75741349,\n",
       "         -0.0254224 ],\n",
       "        [-1.11310048, -0.33777836, -0.12126654, -0.33897128, -0.4197249 ,\n",
       "         -0.39744531]]),\n",
       " array([[0., 1., 0., 0., 0., 0., 0., 0., 1., 0., 0., 0., 0.],\n",
       "        [0., 1., 0., 0., 0., 1., 0., 0., 1., 0., 0., 0., 0.],\n",
       "        [1., 1., 0., 0., 0., 0., 0., 0., 1., 0., 0., 0., 0.],\n",
       "        [1., 0., 0., 0., 0., 1., 0., 0., 0., 0., 0., 0., 0.],\n",
       "        [0., 1., 0., 0., 0., 1., 0., 0., 1., 0., 0., 0., 0.]])]"
      ]
     },
     "execution_count": 229,
     "metadata": {},
     "output_type": "execute_result"
    }
   ],
   "source": [
    "kproto.cluster_centroids_"
   ]
  },
  {
   "cell_type": "code",
   "execution_count": 251,
   "metadata": {},
   "outputs": [
    {
     "data": {
      "text/plain": [
       "array([1], dtype=uint16)"
      ]
     },
     "execution_count": 251,
     "metadata": {},
     "output_type": "execute_result"
    }
   ],
   "source": [
    "Y = np.array([[-0.39684386, -0.15597997,  0.54861328, -0.26920348,  0.71829611, 1.3483716, 0., 1., 0., 0., 0., 1., 0., 0., 1., 0., 0., 0., 0.]])\n",
    "kproto.predict(Y, categorical=[6, 7, 8, 9, 10, 11, 12, 13, 14, 15, 16, 17, 18])\n"
   ]
  },
  {
   "cell_type": "code",
   "execution_count": null,
   "metadata": {},
   "outputs": [],
   "source": []
  }
 ],
 "metadata": {
  "kernelspec": {
   "display_name": "Python 3",
   "language": "python",
   "name": "python3"
  },
  "language_info": {
   "codemirror_mode": {
    "name": "ipython",
    "version": 3
   },
   "file_extension": ".py",
   "mimetype": "text/x-python",
   "name": "python",
   "nbconvert_exporter": "python",
   "pygments_lexer": "ipython3",
   "version": "3.7.9"
  }
 },
 "nbformat": 4,
 "nbformat_minor": 4
}
