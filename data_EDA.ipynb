{
 "cells": [
  {
   "cell_type": "code",
   "execution_count": 32,
   "metadata": {},
   "outputs": [
    {
     "data": {
      "text/plain": [
       "20"
      ]
     },
     "execution_count": 32,
     "metadata": {},
     "output_type": "execute_result"
    }
   ],
   "source": [
    "import pandas as pd \n",
    "import matplotlib.pyplot as plt \n",
    "import seaborn as sbs\n",
    "\n",
    "pd.options.display.max_rows\n",
    "pd.options.display.max_columns"
   ]
  },
  {
   "cell_type": "code",
   "execution_count": 5,
   "metadata": {},
   "outputs": [
    {
     "data": {
      "text/html": [
       "<div>\n",
       "<style scoped>\n",
       "    .dataframe tbody tr th:only-of-type {\n",
       "        vertical-align: middle;\n",
       "    }\n",
       "\n",
       "    .dataframe tbody tr th {\n",
       "        vertical-align: top;\n",
       "    }\n",
       "\n",
       "    .dataframe thead th {\n",
       "        text-align: right;\n",
       "    }\n",
       "</style>\n",
       "<table border=\"1\" class=\"dataframe\">\n",
       "  <thead>\n",
       "    <tr style=\"text-align: right;\">\n",
       "      <th></th>\n",
       "      <th>Job Title</th>\n",
       "      <th>Salary Estimate</th>\n",
       "      <th>Job Description</th>\n",
       "      <th>Rating</th>\n",
       "      <th>Company Name</th>\n",
       "      <th>Location</th>\n",
       "      <th>Headquarters</th>\n",
       "      <th>Size</th>\n",
       "      <th>Founded</th>\n",
       "      <th>Type of ownership</th>\n",
       "      <th>...</th>\n",
       "      <th>company_txt</th>\n",
       "      <th>job_state</th>\n",
       "      <th>age</th>\n",
       "      <th>python_</th>\n",
       "      <th>R_</th>\n",
       "      <th>spark_</th>\n",
       "      <th>aws_</th>\n",
       "      <th>excel_</th>\n",
       "      <th>private</th>\n",
       "      <th>other_types</th>\n",
       "    </tr>\n",
       "  </thead>\n",
       "  <tbody>\n",
       "    <tr>\n",
       "      <th>0</th>\n",
       "      <td>DATA SCIENTIST</td>\n",
       "      <td>$54K-$92K\\n(Glassdoor est.)</td>\n",
       "      <td>JOB SUMMARY\\n\\nThe position will focus on buil...</td>\n",
       "      <td>3.8</td>\n",
       "      <td>Blessing Hospital\\n3.8</td>\n",
       "      <td>Quincy, IL</td>\n",
       "      <td>-1</td>\n",
       "      <td>1001 to 5000 Employees</td>\n",
       "      <td>1875</td>\n",
       "      <td>Nonprofit Organization</td>\n",
       "      <td>...</td>\n",
       "      <td>Blessing Hospital</td>\n",
       "      <td>IL</td>\n",
       "      <td>145</td>\n",
       "      <td>1</td>\n",
       "      <td>0</td>\n",
       "      <td>0</td>\n",
       "      <td>1</td>\n",
       "      <td>1</td>\n",
       "      <td>0</td>\n",
       "      <td>1</td>\n",
       "    </tr>\n",
       "    <tr>\n",
       "      <th>1</th>\n",
       "      <td>Sr. Data Scientist - Model Governance</td>\n",
       "      <td>$101K-$163K\\n(Glassdoor est.)</td>\n",
       "      <td>General Summary:\\n\\nThe position plays a criti...</td>\n",
       "      <td>3.6</td>\n",
       "      <td>Elevate Credit\\n3.6</td>\n",
       "      <td>Addison, TX</td>\n",
       "      <td>-1</td>\n",
       "      <td>501 to 1000 Employees</td>\n",
       "      <td>2014</td>\n",
       "      <td>Company - Public</td>\n",
       "      <td>...</td>\n",
       "      <td>Elevate Credit</td>\n",
       "      <td>TX</td>\n",
       "      <td>6</td>\n",
       "      <td>1</td>\n",
       "      <td>0</td>\n",
       "      <td>0</td>\n",
       "      <td>0</td>\n",
       "      <td>0</td>\n",
       "      <td>0</td>\n",
       "      <td>1</td>\n",
       "    </tr>\n",
       "    <tr>\n",
       "      <th>2</th>\n",
       "      <td>R&amp;D Scientist</td>\n",
       "      <td>$31K-$72K\\n(Glassdoor est.)</td>\n",
       "      <td>Our Research and Development department is on ...</td>\n",
       "      <td>4.3</td>\n",
       "      <td>Chobani\\n4.3</td>\n",
       "      <td>Twin Falls, ID</td>\n",
       "      <td>-1</td>\n",
       "      <td>1001 to 5000 Employees</td>\n",
       "      <td>2005</td>\n",
       "      <td>Company - Private</td>\n",
       "      <td>...</td>\n",
       "      <td>Chobani</td>\n",
       "      <td>ID</td>\n",
       "      <td>15</td>\n",
       "      <td>0</td>\n",
       "      <td>0</td>\n",
       "      <td>0</td>\n",
       "      <td>1</td>\n",
       "      <td>1</td>\n",
       "      <td>1</td>\n",
       "      <td>0</td>\n",
       "    </tr>\n",
       "    <tr>\n",
       "      <th>3</th>\n",
       "      <td>Manufacturing Scientist</td>\n",
       "      <td>$41K-$91K\\n(Glassdoor est.)</td>\n",
       "      <td>Biomerica Corporation focusing on the research...</td>\n",
       "      <td>2.5</td>\n",
       "      <td>Biomerica\\n2.5</td>\n",
       "      <td>Irvine, CA</td>\n",
       "      <td>-1</td>\n",
       "      <td>1 to 50 Employees</td>\n",
       "      <td>-1</td>\n",
       "      <td>Company - Public</td>\n",
       "      <td>...</td>\n",
       "      <td>Biomerica</td>\n",
       "      <td>CA</td>\n",
       "      <td>-1</td>\n",
       "      <td>0</td>\n",
       "      <td>0</td>\n",
       "      <td>0</td>\n",
       "      <td>0</td>\n",
       "      <td>1</td>\n",
       "      <td>0</td>\n",
       "      <td>1</td>\n",
       "    </tr>\n",
       "    <tr>\n",
       "      <th>4</th>\n",
       "      <td>HCM Data Analyst</td>\n",
       "      <td>$55K-$94K\\n(Glassdoor est.)</td>\n",
       "      <td>Any qualified individual with a disability who...</td>\n",
       "      <td>3.2</td>\n",
       "      <td>Austal USA\\n3.2</td>\n",
       "      <td>Mobile, AL</td>\n",
       "      <td>-1</td>\n",
       "      <td>1001 to 5000 Employees</td>\n",
       "      <td>1988</td>\n",
       "      <td>Company - Public</td>\n",
       "      <td>...</td>\n",
       "      <td>Austal USA</td>\n",
       "      <td>AL</td>\n",
       "      <td>32</td>\n",
       "      <td>0</td>\n",
       "      <td>0</td>\n",
       "      <td>0</td>\n",
       "      <td>0</td>\n",
       "      <td>1</td>\n",
       "      <td>0</td>\n",
       "      <td>1</td>\n",
       "    </tr>\n",
       "  </tbody>\n",
       "</table>\n",
       "<p>5 rows × 29 columns</p>\n",
       "</div>"
      ],
      "text/plain": [
       "                               Job Title                Salary Estimate  \\\n",
       "0                         DATA SCIENTIST    $54K-$92K\\n(Glassdoor est.)   \n",
       "1  Sr. Data Scientist - Model Governance  $101K-$163K\\n(Glassdoor est.)   \n",
       "2                          R&D Scientist    $31K-$72K\\n(Glassdoor est.)   \n",
       "3                Manufacturing Scientist    $41K-$91K\\n(Glassdoor est.)   \n",
       "4                       HCM Data Analyst    $55K-$94K\\n(Glassdoor est.)   \n",
       "\n",
       "                                     Job Description  Rating  \\\n",
       "0  JOB SUMMARY\\n\\nThe position will focus on buil...     3.8   \n",
       "1  General Summary:\\n\\nThe position plays a criti...     3.6   \n",
       "2  Our Research and Development department is on ...     4.3   \n",
       "3  Biomerica Corporation focusing on the research...     2.5   \n",
       "4  Any qualified individual with a disability who...     3.2   \n",
       "\n",
       "             Company Name        Location  Headquarters  \\\n",
       "0  Blessing Hospital\\n3.8      Quincy, IL            -1   \n",
       "1     Elevate Credit\\n3.6     Addison, TX            -1   \n",
       "2            Chobani\\n4.3  Twin Falls, ID            -1   \n",
       "3          Biomerica\\n2.5      Irvine, CA            -1   \n",
       "4         Austal USA\\n3.2      Mobile, AL            -1   \n",
       "\n",
       "                     Size  Founded       Type of ownership  ...  \\\n",
       "0  1001 to 5000 Employees     1875  Nonprofit Organization  ...   \n",
       "1   501 to 1000 Employees     2014        Company - Public  ...   \n",
       "2  1001 to 5000 Employees     2005       Company - Private  ...   \n",
       "3       1 to 50 Employees       -1        Company - Public  ...   \n",
       "4  1001 to 5000 Employees     1988        Company - Public  ...   \n",
       "\n",
       "         company_txt job_state  age  python_  R_  spark_  aws_  excel_  \\\n",
       "0  Blessing Hospital        IL  145        1   0       0     1       1   \n",
       "1     Elevate Credit        TX    6        1   0       0     0       0   \n",
       "2            Chobani        ID   15        0   0       0     1       1   \n",
       "3          Biomerica        CA   -1        0   0       0     0       1   \n",
       "4         Austal USA        AL   32        0   0       0     0       1   \n",
       "\n",
       "   private other_types  \n",
       "0        0           1  \n",
       "1        0           1  \n",
       "2        1           0  \n",
       "3        0           1  \n",
       "4        0           1  \n",
       "\n",
       "[5 rows x 29 columns]"
      ]
     },
     "execution_count": 5,
     "metadata": {},
     "output_type": "execute_result"
    }
   ],
   "source": [
    "df = pd.read_csv('salary_clean.csv')\n",
    "df.head()"
   ]
  },
  {
   "cell_type": "code",
   "execution_count": 6,
   "metadata": {},
   "outputs": [
    {
     "data": {
      "text/plain": [
       "Index(['Job Title', 'Salary Estimate', 'Job Description', 'Rating',\n",
       "       'Company Name', 'Location', 'Headquarters', 'Size', 'Founded',\n",
       "       'Type of ownership', 'Industry', 'Sector', 'Revenue', 'Competitors',\n",
       "       'hourly', 'employer_provided', 'min_salary', 'max_salary', 'avg_salary',\n",
       "       'company_txt', 'job_state', 'age', 'python_', 'R_', 'spark_', 'aws_',\n",
       "       'excel_', 'private', 'other_types'],\n",
       "      dtype='object')"
      ]
     },
     "execution_count": 6,
     "metadata": {},
     "output_type": "execute_result"
    }
   ],
   "source": [
    "df.columns"
   ]
  },
  {
   "cell_type": "code",
   "execution_count": 10,
   "metadata": {},
   "outputs": [],
   "source": [
    "def title_extraction(title):\n",
    "    if 'data scientist' in title.lower():\n",
    "        return 'data scientist'\n",
    "    elif 'data engineer' in title.lower():\n",
    "        return 'data engineer'\n",
    "    elif 'analyst' in title.lower():\n",
    "        return 'analyst'\n",
    "    elif 'machine learning' in title.lower():\n",
    "        return 'mle'\n",
    "    elif 'manager' in title.lower():\n",
    "        return 'manager'\n",
    "    elif 'director' in title.lower():\n",
    "        return 'director'\n",
    "    else:\n",
    "        return 'na'\n",
    "    \n",
    "def seniority(title):\n",
    "    if 'sr' in title.lower() or 'senior' in title.lower() or 'director' in title.lower() or 'lead' in title.lower() or 'principal' in title.lower():\n",
    "            return 'senior'\n",
    "    elif 'jr' in title.lower() or 'jr.' in title.lower():\n",
    "        return 'jr'\n",
    "    else:\n",
    "        return 'na'"
   ]
  },
  {
   "cell_type": "code",
   "execution_count": 11,
   "metadata": {},
   "outputs": [
    {
     "data": {
      "text/plain": [
       "data scientist    339\n",
       "analyst           152\n",
       "na                111\n",
       "mle                84\n",
       "data engineer      59\n",
       "manager            15\n",
       "director           10\n",
       "Name: job_simp, dtype: int64"
      ]
     },
     "execution_count": 11,
     "metadata": {},
     "output_type": "execute_result"
    }
   ],
   "source": [
    "df['job_simp'] = df['Job Title'].apply(title_extraction)\n",
    "df.job_simp.value_counts()"
   ]
  },
  {
   "cell_type": "code",
   "execution_count": 21,
   "metadata": {},
   "outputs": [
    {
     "data": {
      "text/plain": [
       "na        615\n",
       "senior    155\n",
       "Name: seniority, dtype: int64"
      ]
     },
     "execution_count": 21,
     "metadata": {},
     "output_type": "execute_result"
    }
   ],
   "source": [
    "df['seniority'] = df['Job Title'].apply(seniority)\n",
    "df.seniority.value_counts()"
   ]
  },
  {
   "cell_type": "code",
   "execution_count": 17,
   "metadata": {},
   "outputs": [
    {
     "data": {
      "text/plain": [
       " CA    199\n",
       " VA     82\n",
       " NY     73\n",
       " MA     68\n",
       " MD     48\n",
       " IL     33\n",
       " FL     26\n",
       " OH     24\n",
       " TX     20\n",
       " DC     19\n",
       " WA     19\n",
       " NC     15\n",
       " AZ     13\n",
       " PA     12\n",
       " MO     11\n",
       " CO     11\n",
       " MN     11\n",
       " TN     11\n",
       " AL      9\n",
       " NJ      8\n",
       " MI      7\n",
       " GA      7\n",
       " WI      7\n",
       " SC      5\n",
       " CT      5\n",
       " IN      4\n",
       " IA      4\n",
       " OR      3\n",
       " NM      3\n",
       " KS      3\n",
       " MS      2\n",
       " UT      2\n",
       " DE      1\n",
       " ID      1\n",
       " ND      1\n",
       " WY      1\n",
       " RI      1\n",
       " AR      1\n",
       "Name: job_state, dtype: int64"
      ]
     },
     "execution_count": 17,
     "metadata": {},
     "output_type": "execute_result"
    }
   ],
   "source": [
    "df.job_state.value_counts()"
   ]
  },
  {
   "cell_type": "code",
   "execution_count": 22,
   "metadata": {},
   "outputs": [
    {
     "data": {
      "text/plain": [
       "-1    770\n",
       "Name: Competitors, dtype: int64"
      ]
     },
     "execution_count": 22,
     "metadata": {},
     "output_type": "execute_result"
    }
   ],
   "source": [
    "df['Competitors'].value_counts()"
   ]
  },
  {
   "cell_type": "code",
   "execution_count": 23,
   "metadata": {},
   "outputs": [],
   "source": [
    "df['min_salary'] = df.apply(lambda x: x.min_salary*2 if x.hourly ==1 else x.min_salary, axis =1)\n",
    "df['max_salary'] = df.apply(lambda x: x.max_salary*2 if x.hourly ==1 else x.max_salary, axis =1)"
   ]
  },
  {
   "cell_type": "code",
   "execution_count": 26,
   "metadata": {},
   "outputs": [
    {
     "data": {
      "text/html": [
       "<div>\n",
       "<style scoped>\n",
       "    .dataframe tbody tr th:only-of-type {\n",
       "        vertical-align: middle;\n",
       "    }\n",
       "\n",
       "    .dataframe tbody tr th {\n",
       "        vertical-align: top;\n",
       "    }\n",
       "\n",
       "    .dataframe thead th {\n",
       "        text-align: right;\n",
       "    }\n",
       "</style>\n",
       "<table border=\"1\" class=\"dataframe\">\n",
       "  <thead>\n",
       "    <tr style=\"text-align: right;\">\n",
       "      <th></th>\n",
       "      <th>hourly</th>\n",
       "      <th>min_salary</th>\n",
       "      <th>max_salary</th>\n",
       "    </tr>\n",
       "  </thead>\n",
       "  <tbody>\n",
       "    <tr>\n",
       "      <th>49</th>\n",
       "      <td>1</td>\n",
       "      <td>40</td>\n",
       "      <td>56</td>\n",
       "    </tr>\n",
       "    <tr>\n",
       "      <th>376</th>\n",
       "      <td>1</td>\n",
       "      <td>108</td>\n",
       "      <td>184</td>\n",
       "    </tr>\n",
       "    <tr>\n",
       "      <th>399</th>\n",
       "      <td>1</td>\n",
       "      <td>108</td>\n",
       "      <td>184</td>\n",
       "    </tr>\n",
       "    <tr>\n",
       "      <th>553</th>\n",
       "      <td>1</td>\n",
       "      <td>108</td>\n",
       "      <td>184</td>\n",
       "    </tr>\n",
       "    <tr>\n",
       "      <th>557</th>\n",
       "      <td>1</td>\n",
       "      <td>90</td>\n",
       "      <td>110</td>\n",
       "    </tr>\n",
       "  </tbody>\n",
       "</table>\n",
       "</div>"
      ],
      "text/plain": [
       "     hourly  min_salary  max_salary\n",
       "49        1          40          56\n",
       "376       1         108         184\n",
       "399       1         108         184\n",
       "553       1         108         184\n",
       "557       1          90         110"
      ]
     },
     "execution_count": 26,
     "metadata": {},
     "output_type": "execute_result"
    }
   ],
   "source": [
    "df[df.hourly ==1][['hourly','min_salary','max_salary']]"
   ]
  },
  {
   "cell_type": "code",
   "execution_count": 29,
   "metadata": {},
   "outputs": [
    {
     "data": {
      "text/plain": [
       "0                        Blessing Hospital\n",
       "1                           Elevate Credit\n",
       "2                                  Chobani\n",
       "3                                Biomerica\n",
       "4                               Austal USA\n",
       "                      ...                 \n",
       "765                     Medidata Solutions\n",
       "766                           Fortego, LLC\n",
       "767    Designer Brands (DSW, Camuto Group)\n",
       "768                          PA Consulting\n",
       "769                                Waystar\n",
       "Name: company_txt, Length: 770, dtype: object"
      ]
     },
     "execution_count": 29,
     "metadata": {},
     "output_type": "execute_result"
    }
   ],
   "source": [
    "df['company_txt'] = df.company_txt.apply(lambda x: x.replace('\\n', ''))\n",
    "df['company_txt']"
   ]
  },
  {
   "cell_type": "code",
   "execution_count": 30,
   "metadata": {},
   "outputs": [
    {
     "data": {
      "text/html": [
       "<div>\n",
       "<style scoped>\n",
       "    .dataframe tbody tr th:only-of-type {\n",
       "        vertical-align: middle;\n",
       "    }\n",
       "\n",
       "    .dataframe tbody tr th {\n",
       "        vertical-align: top;\n",
       "    }\n",
       "\n",
       "    .dataframe thead th {\n",
       "        text-align: right;\n",
       "    }\n",
       "</style>\n",
       "<table border=\"1\" class=\"dataframe\">\n",
       "  <thead>\n",
       "    <tr style=\"text-align: right;\">\n",
       "      <th></th>\n",
       "      <th>Rating</th>\n",
       "      <th>Headquarters</th>\n",
       "      <th>Founded</th>\n",
       "      <th>Competitors</th>\n",
       "      <th>hourly</th>\n",
       "      <th>employer_provided</th>\n",
       "      <th>min_salary</th>\n",
       "      <th>max_salary</th>\n",
       "      <th>avg_salary</th>\n",
       "      <th>age</th>\n",
       "      <th>python_</th>\n",
       "      <th>R_</th>\n",
       "      <th>spark_</th>\n",
       "      <th>aws_</th>\n",
       "      <th>excel_</th>\n",
       "      <th>private</th>\n",
       "      <th>other_types</th>\n",
       "    </tr>\n",
       "  </thead>\n",
       "  <tbody>\n",
       "    <tr>\n",
       "      <th>count</th>\n",
       "      <td>770.000000</td>\n",
       "      <td>770.0</td>\n",
       "      <td>770.000000</td>\n",
       "      <td>770.0</td>\n",
       "      <td>770.000000</td>\n",
       "      <td>770.000000</td>\n",
       "      <td>770.000000</td>\n",
       "      <td>770.000000</td>\n",
       "      <td>770.000000</td>\n",
       "      <td>770.000000</td>\n",
       "      <td>770.000000</td>\n",
       "      <td>770.000000</td>\n",
       "      <td>770.000000</td>\n",
       "      <td>770.000000</td>\n",
       "      <td>770.000000</td>\n",
       "      <td>770.000000</td>\n",
       "      <td>770.000000</td>\n",
       "    </tr>\n",
       "    <tr>\n",
       "      <th>mean</th>\n",
       "      <td>3.739351</td>\n",
       "      <td>-1.0</td>\n",
       "      <td>1848.763636</td>\n",
       "      <td>-1.0</td>\n",
       "      <td>0.006494</td>\n",
       "      <td>0.016883</td>\n",
       "      <td>79.089610</td>\n",
       "      <td>130.290909</td>\n",
       "      <td>104.309740</td>\n",
       "      <td>42.563636</td>\n",
       "      <td>0.640260</td>\n",
       "      <td>0.009091</td>\n",
       "      <td>0.222078</td>\n",
       "      <td>0.251948</td>\n",
       "      <td>0.506494</td>\n",
       "      <td>0.490909</td>\n",
       "      <td>0.509091</td>\n",
       "    </tr>\n",
       "    <tr>\n",
       "      <th>std</th>\n",
       "      <td>0.701881</td>\n",
       "      <td>0.0</td>\n",
       "      <td>484.282810</td>\n",
       "      <td>0.0</td>\n",
       "      <td>0.080372</td>\n",
       "      <td>0.128917</td>\n",
       "      <td>29.247138</td>\n",
       "      <td>42.501845</td>\n",
       "      <td>35.372528</td>\n",
       "      <td>42.649010</td>\n",
       "      <td>0.480236</td>\n",
       "      <td>0.094974</td>\n",
       "      <td>0.415913</td>\n",
       "      <td>0.434414</td>\n",
       "      <td>0.500283</td>\n",
       "      <td>0.500242</td>\n",
       "      <td>0.500242</td>\n",
       "    </tr>\n",
       "    <tr>\n",
       "      <th>min</th>\n",
       "      <td>-1.000000</td>\n",
       "      <td>-1.0</td>\n",
       "      <td>-1.000000</td>\n",
       "      <td>-1.0</td>\n",
       "      <td>0.000000</td>\n",
       "      <td>0.000000</td>\n",
       "      <td>12.000000</td>\n",
       "      <td>51.000000</td>\n",
       "      <td>24.000000</td>\n",
       "      <td>-1.000000</td>\n",
       "      <td>0.000000</td>\n",
       "      <td>0.000000</td>\n",
       "      <td>0.000000</td>\n",
       "      <td>0.000000</td>\n",
       "      <td>0.000000</td>\n",
       "      <td>0.000000</td>\n",
       "      <td>0.000000</td>\n",
       "    </tr>\n",
       "    <tr>\n",
       "      <th>25%</th>\n",
       "      <td>3.400000</td>\n",
       "      <td>-1.0</td>\n",
       "      <td>1945.000000</td>\n",
       "      <td>-1.0</td>\n",
       "      <td>0.000000</td>\n",
       "      <td>0.000000</td>\n",
       "      <td>56.000000</td>\n",
       "      <td>98.000000</td>\n",
       "      <td>77.125000</td>\n",
       "      <td>12.000000</td>\n",
       "      <td>0.000000</td>\n",
       "      <td>0.000000</td>\n",
       "      <td>0.000000</td>\n",
       "      <td>0.000000</td>\n",
       "      <td>0.000000</td>\n",
       "      <td>0.000000</td>\n",
       "      <td>0.000000</td>\n",
       "    </tr>\n",
       "    <tr>\n",
       "      <th>50%</th>\n",
       "      <td>3.800000</td>\n",
       "      <td>-1.0</td>\n",
       "      <td>1988.000000</td>\n",
       "      <td>-1.0</td>\n",
       "      <td>0.000000</td>\n",
       "      <td>0.000000</td>\n",
       "      <td>77.000000</td>\n",
       "      <td>127.000000</td>\n",
       "      <td>102.000000</td>\n",
       "      <td>26.000000</td>\n",
       "      <td>1.000000</td>\n",
       "      <td>0.000000</td>\n",
       "      <td>0.000000</td>\n",
       "      <td>0.000000</td>\n",
       "      <td>1.000000</td>\n",
       "      <td>0.000000</td>\n",
       "      <td>1.000000</td>\n",
       "    </tr>\n",
       "    <tr>\n",
       "      <th>75%</th>\n",
       "      <td>4.100000</td>\n",
       "      <td>-1.0</td>\n",
       "      <td>2005.000000</td>\n",
       "      <td>-1.0</td>\n",
       "      <td>0.000000</td>\n",
       "      <td>0.000000</td>\n",
       "      <td>97.000000</td>\n",
       "      <td>155.000000</td>\n",
       "      <td>126.375000</td>\n",
       "      <td>62.000000</td>\n",
       "      <td>1.000000</td>\n",
       "      <td>0.000000</td>\n",
       "      <td>0.000000</td>\n",
       "      <td>1.000000</td>\n",
       "      <td>1.000000</td>\n",
       "      <td>1.000000</td>\n",
       "      <td>1.000000</td>\n",
       "    </tr>\n",
       "    <tr>\n",
       "      <th>max</th>\n",
       "      <td>5.000000</td>\n",
       "      <td>-1.0</td>\n",
       "      <td>2019.000000</td>\n",
       "      <td>-1.0</td>\n",
       "      <td>1.000000</td>\n",
       "      <td>1.000000</td>\n",
       "      <td>180.000000</td>\n",
       "      <td>286.000000</td>\n",
       "      <td>233.000000</td>\n",
       "      <td>239.000000</td>\n",
       "      <td>1.000000</td>\n",
       "      <td>1.000000</td>\n",
       "      <td>1.000000</td>\n",
       "      <td>1.000000</td>\n",
       "      <td>1.000000</td>\n",
       "      <td>1.000000</td>\n",
       "      <td>1.000000</td>\n",
       "    </tr>\n",
       "  </tbody>\n",
       "</table>\n",
       "</div>"
      ],
      "text/plain": [
       "           Rating  Headquarters      Founded  Competitors      hourly  \\\n",
       "count  770.000000         770.0   770.000000        770.0  770.000000   \n",
       "mean     3.739351          -1.0  1848.763636         -1.0    0.006494   \n",
       "std      0.701881           0.0   484.282810          0.0    0.080372   \n",
       "min     -1.000000          -1.0    -1.000000         -1.0    0.000000   \n",
       "25%      3.400000          -1.0  1945.000000         -1.0    0.000000   \n",
       "50%      3.800000          -1.0  1988.000000         -1.0    0.000000   \n",
       "75%      4.100000          -1.0  2005.000000         -1.0    0.000000   \n",
       "max      5.000000          -1.0  2019.000000         -1.0    1.000000   \n",
       "\n",
       "       employer_provided  min_salary  max_salary  avg_salary         age  \\\n",
       "count         770.000000  770.000000  770.000000  770.000000  770.000000   \n",
       "mean            0.016883   79.089610  130.290909  104.309740   42.563636   \n",
       "std             0.128917   29.247138   42.501845   35.372528   42.649010   \n",
       "min             0.000000   12.000000   51.000000   24.000000   -1.000000   \n",
       "25%             0.000000   56.000000   98.000000   77.125000   12.000000   \n",
       "50%             0.000000   77.000000  127.000000  102.000000   26.000000   \n",
       "75%             0.000000   97.000000  155.000000  126.375000   62.000000   \n",
       "max             1.000000  180.000000  286.000000  233.000000  239.000000   \n",
       "\n",
       "          python_          R_      spark_        aws_      excel_     private  \\\n",
       "count  770.000000  770.000000  770.000000  770.000000  770.000000  770.000000   \n",
       "mean     0.640260    0.009091    0.222078    0.251948    0.506494    0.490909   \n",
       "std      0.480236    0.094974    0.415913    0.434414    0.500283    0.500242   \n",
       "min      0.000000    0.000000    0.000000    0.000000    0.000000    0.000000   \n",
       "25%      0.000000    0.000000    0.000000    0.000000    0.000000    0.000000   \n",
       "50%      1.000000    0.000000    0.000000    0.000000    1.000000    0.000000   \n",
       "75%      1.000000    0.000000    0.000000    1.000000    1.000000    1.000000   \n",
       "max      1.000000    1.000000    1.000000    1.000000    1.000000    1.000000   \n",
       "\n",
       "       other_types  \n",
       "count   770.000000  \n",
       "mean      0.509091  \n",
       "std       0.500242  \n",
       "min       0.000000  \n",
       "25%       0.000000  \n",
       "50%       1.000000  \n",
       "75%       1.000000  \n",
       "max       1.000000  "
      ]
     },
     "execution_count": 30,
     "metadata": {},
     "output_type": "execute_result"
    }
   ],
   "source": [
    "df.describe()"
   ]
  },
  {
   "cell_type": "code",
   "execution_count": 34,
   "metadata": {},
   "outputs": [
    {
     "data": {
      "text/plain": [
       "Index(['Job Title', 'Salary Estimate', 'Job Description', 'Rating',\n",
       "       'Company Name', 'Location', 'Headquarters', 'Size', 'Founded',\n",
       "       'Type of ownership', 'Industry', 'Sector', 'Revenue', 'Competitors',\n",
       "       'hourly', 'employer_provided', 'min_salary', 'max_salary', 'avg_salary',\n",
       "       'company_txt', 'job_state', 'age', 'python_', 'R_', 'spark_', 'aws_',\n",
       "       'excel_', 'private', 'other_types', 'job_simp', 'seniority'],\n",
       "      dtype='object')"
      ]
     },
     "execution_count": 34,
     "metadata": {},
     "output_type": "execute_result"
    }
   ],
   "source": [
    "df.columns"
   ]
  },
  {
   "cell_type": "code",
   "execution_count": 43,
   "metadata": {},
   "outputs": [
    {
     "data": {
      "text/plain": [
       "Information Technology          224\n",
       "Business Services                82\n",
       "Finance                          71\n",
       "Biotech & Pharmaceuticals        64\n",
       "Insurance                        55\n",
       "Health Care                      52\n",
       "Government                       37\n",
       "Aerospace & Defense              33\n",
       "Manufacturing                    31\n",
       "Retail                           28\n",
       "Media                            27\n",
       "-1                               18\n",
       "Oil, Gas, Energy & Utilities     11\n",
       "Non-Profit                        6\n",
       "Telecommunications                6\n",
       "Agriculture & Forestry            6\n",
       "Education                         6\n",
       "Consumer Services                 6\n",
       "Accounting & Legal                3\n",
       "Travel & Tourism                  2\n",
       "Transportation & Logistics        1\n",
       "Real Estate                       1\n",
       "Name: Sector, dtype: int64"
      ]
     },
     "execution_count": 43,
     "metadata": {},
     "output_type": "execute_result"
    }
   ],
   "source": [
    "df.Sector.value_counts()"
   ]
  },
  {
   "cell_type": "code",
   "execution_count": 91,
   "metadata": {},
   "outputs": [
    {
     "ename": "SyntaxError",
     "evalue": "invalid syntax (<ipython-input-91-ddae1cfd8ad1>, line 1)",
     "output_type": "error",
     "traceback": [
      "\u001b[1;36m  File \u001b[1;32m\"<ipython-input-91-ddae1cfd8ad1>\"\u001b[1;36m, line \u001b[1;32m1\u001b[0m\n\u001b[1;33m    df['Sector'] = df.Sector.value_counts().apply(lambda x: x if x > 20 else pass)\u001b[0m\n\u001b[1;37m                                                                                ^\u001b[0m\n\u001b[1;31mSyntaxError\u001b[0m\u001b[1;31m:\u001b[0m invalid syntax\n"
     ]
    }
   ],
   "source": [
    "df['Sector'] = df.Sector.value_counts().apply(lambda x: x if x > 20 else pass)"
   ]
  },
  {
   "cell_type": "code",
   "execution_count": 88,
   "metadata": {},
   "outputs": [],
   "source": [
    "from sklearn.preprocessing import OneHotEncoder\n",
    "enc = OneHotEncoder(handle_unknown='ignore')\n",
    "#x = onehotencoder.fit_transform(x).toarray()"
   ]
  },
  {
   "cell_type": "code",
   "execution_count": null,
   "metadata": {},
   "outputs": [],
   "source": [
    "df['Sector_'] = df.Sector.value_counts().apply()"
   ]
  },
  {
   "cell_type": "code",
   "execution_count": 49,
   "metadata": {},
   "outputs": [],
   "source": [
    "from sklearn.cluster import KMeans\n",
    "from sklearn.preprocessing import StandardScaler"
   ]
  },
  {
   "cell_type": "code",
   "execution_count": 48,
   "metadata": {},
   "outputs": [],
   "source": [
    "df_test = df[['Rating', 'avg_salary', 'age']]"
   ]
  },
  {
   "cell_type": "code",
   "execution_count": 71,
   "metadata": {},
   "outputs": [],
   "source": [
    "scaler = StandardScaler()\n",
    "X = scaler.fit(df_test).transform(df_test)\n"
   ]
  },
  {
   "cell_type": "code",
   "execution_count": 64,
   "metadata": {},
   "outputs": [],
   "source": [
    "inertias = []\n",
    "for i in range(1, 15):\n",
    "    model = KMeans(n_clusters=i, init='k-means++')\n",
    "    model.fit(X)\n",
    "    inertias.append(model.inertia_)"
   ]
  },
  {
   "cell_type": "code",
   "execution_count": 63,
   "metadata": {},
   "outputs": [
    {
     "data": {
      "image/png": "[encoded data removed]",
      "text/plain": [
       "<Figure size 432x288 with 1 Axes>"
      ]
     },
     "metadata": {
      "needs_background": "light"
     },
     "output_type": "display_data"
    }
   ],
   "source": [
    "num_clusters = [i for i in range(1, 15)]\n",
    "plt.plot(num_clusters, inertias, '-o')\n",
    "plt.show()"
   ]
  },
  {
   "cell_type": "code",
   "execution_count": 72,
   "metadata": {},
   "outputs": [],
   "source": [
    "model = KMeans(n_clusters=5, init='k-means++')\n",
    "model.fit(X)\n",
    "labels = model.predict(X)"
   ]
  },
  {
   "cell_type": "code",
   "execution_count": 73,
   "metadata": {},
   "outputs": [
    {
     "name": "stdout",
     "output_type": "stream",
     "text": [
      "[1 2 0 3 3 1 0 0 3 0 2 3 0 1 2 3 3 0 3 1 3 3 2 3 0 3 2 3 2 3 2 3 3 2 3 3 1\n",
      " 0 0 3 2 0 0 3 3 2 2 1 2 1 3 3 3 3 3 0 3 3 2 1 1 3 3 0 2 3 0 1 3 2 2 3 3 3\n",
      " 3 2 3 0 1 2 0 1 0 3 3 0 1 0 3 1 2 0 3 3 2 0 3 0 3 1 3 2 3 2 1 0 2 3 2 3 1\n",
      " 1 3 0 3 3 0 0 3 3 2 3 2 3 1 0 3 0 2 3 0 1 3 3 3 3 1 0 3 0 0 2 0 0 3 0 1 2\n",
      " 0 0 3 0 3 3 0 1 0 0 2 3 2 2 2 0 3 1 0 2 3 0 3 3 1 3 0 0 3 1 3 0 0 1 3 0 0\n",
      " 2 3 2 0 3 3 3 0 0 1 3 2 1 2 2 3 2 2 3 0 3 1 3 3 3 2 1 2 2 3 0 0 3 0 3 3 0\n",
      " 2 2 2 2 3 0 1 3 2 2 2 2 0 2 2 0 0 2 0 3 3 2 0 2 3 3 1 0 0 0 3 2 1 0 0 1 3\n",
      " 0 2 0 1 0 3 2 1 1 0 3 0 3 2 2 3 2 0 0 2 3 2 2 4 3 2 3 2 0 0 3 1 3 0 2 3 0\n",
      " 1 2 3 4 2 3 0 3 2 2 3 0 3 2 2 2 1 3 3 1 0 0 2 0 0 0 0 2 0 2 2 0 1 2 1 0 0\n",
      " 2 1 3 0 2 2 3 2 2 0 3 0 0 3 3 1 0 1 0 1 1 0 3 0 3 3 1 1 1 1 0 0 3 0 1 3 3\n",
      " 3 0 1 1 3 2 1 3 0 3 2 1 1 3 1 2 0 3 3 3 2 3 3 4 3 3 2 0 3 1 3 4 3 3 2 3 0\n",
      " 3 3 2 1 3 2 2 3 3 3 0 3 3 3 3 3 0 3 2 0 0 2 2 2 3 0 2 2 2 3 1 2 3 1 3 0 2\n",
      " 0 0 3 0 1 2 2 2 1 0 1 1 3 1 0 3 0 2 2 0 2 2 1 0 1 2 2 2 3 0 0 2 0 2 0 1 0\n",
      " 2 1 2 3 0 0 4 0 3 0 3 1 2 3 0 3 1 0 1 1 0 0 1 0 0 0 3 3 0 3 1 3 1 2 3 0 0\n",
      " 1 1 2 3 2 0 2 3 3 3 4 0 3 3 2 3 0 3 0 1 2 1 1 0 1 3 2 0 3 3 3 3 3 3 3 1 2\n",
      " 3 3 0 3 3 3 2 1 3 3 3 4 2 3 3 3 2 3 3 3 2 0 0 3 2 0 2 2 3 3 2 2 1 2 3 3 2\n",
      " 2 3 3 3 3 0 3 3 3 2 2 2 3 3 1 3 0 3 2 0 2 0 3 2 1 3 2 1 3 2 2 1 3 3 2 0 1\n",
      " 0 0 3 0 3 3 1 0 3 3 1 0 3 2 1 3 0 0 2 3 0 0 2 1 1 2 3 2 0 2 2 0 1 3 3 1 0\n",
      " 4 2 0 3 0 1 2 0 1 2 2 2 2 1 0 0 1 0 1 2 0 0 0 2 1 3 3 0 0 3 3 0 3 2 0 0 3\n",
      " 2 1 1 1 1 1 2 0 0 0 2 1 3 3 0 0 3 3 0 3 2 0 0 3 2 1 1 1 1 1 2 0 0 0 2 1 3\n",
      " 3 0 0 3 3 0 3 2 0 0 3 2 1 1 1 1 1 2 0 0 0 2 1 3 3 0 0 3 3 0]\n"
     ]
    }
   ],
   "source": [
    "print(labels)"
   ]
  },
  {
   "cell_type": "code",
   "execution_count": 75,
   "metadata": {},
   "outputs": [],
   "source": [
    "x = X[:,0]\n",
    "y = X[:,1]\n",
    "z = X[:,2]"
   ]
  },
  {
   "cell_type": "code",
   "execution_count": 85,
   "metadata": {},
   "outputs": [
    {
     "data": {
      "image/png": "[encoded data removed]",
      "text/plain": [
       "<Figure size 432x288 with 1 Axes>"
      ]
     },
     "metadata": {
      "needs_background": "light"
     },
     "output_type": "display_data"
    }
   ],
   "source": [
    "#fig = plt.figure()\n",
    "ax = plt.axes(projection='3d')\n",
    "ax.scatter(x, y, z, c=labels, alpha = 0.5)\n",
    "ax.set_xlabel('X Label')\n",
    "ax.set_ylabel('Y Label')\n",
    "ax.set_zlabel('Z Label')\n",
    "\n",
    "plt.show()"
   ]
  },
  {
   "cell_type": "code",
   "execution_count": null,
   "metadata": {},
   "outputs": [],
   "source": []
  }
 ],
 "metadata": {
  "kernelspec": {
   "display_name": "Python 3",
   "language": "python",
   "name": "python3"
  },
  "language_info": {
   "codemirror_mode": {
    "name": "ipython",
    "version": 3
   },
   "file_extension": ".py",
   "mimetype": "text/x-python",
   "name": "python",
   "nbconvert_exporter": "python",
   "pygments_lexer": "ipython3",
   "version": "3.7.9"
  }
 },
 "nbformat": 4,
 "nbformat_minor": 4
}
